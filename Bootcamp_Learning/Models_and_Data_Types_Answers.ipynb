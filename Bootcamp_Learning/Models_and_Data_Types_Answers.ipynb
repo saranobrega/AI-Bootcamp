{
 "cells": [
  {
   "cell_type": "code",
   "execution_count": null,
   "metadata": {
    "id": "BHWKD5MdpL-s"
   },
   "outputs": [],
   "source": [
    "import pandas as pd\n",
    "import numpy as np\n",
    "import matplotlib.pyplot as plt"
   ]
  },
  {
   "cell_type": "markdown",
   "metadata": {
    "id": "tg7FU1IOp8sr"
   },
   "source": [
    "# Common AI models"
   ]
  },
  {
   "cell_type": "markdown",
   "metadata": {
    "id": "HdgY22i6qVUB"
   },
   "source": [
    "# Classic machine learning models\n",
    "\n",
    "## Assignment 1\n",
    "From the Sklearn library choose models of at least the following types, train them on the 6 imported datasets, evaluate their accuracy or R^2 and see which model works best on which dataset. (Note that there are both regression and classification sets)\n",
    "* Tree\n",
    "* Neural Network\n",
    "* Neighbors\n",
    "* Ensemble\n",
    "* Naive Byes (classification only)\n",
    "* Linear\n",
    "\n",
    "## Assignment 2\n",
    "Use XGBoost running on GPU to predict the same datasets. You can activate GPU acceleration in the Runtime tab:\n",
    "Runtime -> Change runtime type -> Select GPU from the dropdown"
   ]
  },
  {
   "cell_type": "code",
   "execution_count": null,
   "metadata": {
    "id": "yUNtA_LMp877"
   },
   "outputs": [],
   "source": [
    "from sklearn.datasets import load_iris, load_boston, load_diabetes, load_digits, load_wine, load_breast_cancer\n",
    "from sklearn.metrics import accuracy_score, r2_score\n",
    "from sklearn.model_selection import train_test_split\n",
    "\n",
    "# Example of how to load \n",
    "X = load_iris().data\n",
    "y = load_iris().target\n",
    "\n",
    "X_train, X_test, y_train, y_test = train_test_split(X, y, test_size=0.33, random_state=42)"
   ]
  },
  {
   "cell_type": "code",
   "execution_count": null,
   "metadata": {
    "colab": {
     "base_uri": "https://localhost:8080/"
    },
    "id": "2hj-NtXkp8_a",
    "outputId": "19de2505-3dd4-4e95-e354-58dfaecfaeff"
   },
   "outputs": [
    {
     "name": "stderr",
     "output_type": "stream",
     "text": [
      "/usr/local/lib/python3.7/dist-packages/sklearn/utils/deprecation.py:144: FutureWarning: The sklearn.neural_network.multilayer_perceptron module is  deprecated in version 0.22 and will be removed in version 0.24. The corresponding classes / functions should instead be imported from sklearn.neural_network. Anything that cannot be imported from sklearn.neural_network is now part of the private API.\n",
      "  warnings.warn(message, FutureWarning)\n",
      "/usr/local/lib/python3.7/dist-packages/sklearn/utils/deprecation.py:144: FutureWarning: The sklearn.ensemble.forest module is  deprecated in version 0.22 and will be removed in version 0.24. The corresponding classes / functions should instead be imported from sklearn.ensemble. Anything that cannot be imported from sklearn.ensemble is now part of the private API.\n",
      "  warnings.warn(message, FutureWarning)\n"
     ]
    },
    {
     "name": "stdout",
     "output_type": "stream",
     "text": [
      "load_iris\n",
      "DecisionTreeClassifier accuracy:  0.98\n",
      "MLPClassifier accuracy:  1.0\n",
      "KNeighborsClassifier accuracy:  0.98\n"
     ]
    },
    {
     "name": "stderr",
     "output_type": "stream",
     "text": [
      "/usr/local/lib/python3.7/dist-packages/sklearn/neural_network/_multilayer_perceptron.py:571: ConvergenceWarning: Stochastic Optimizer: Maximum iterations (200) reached and the optimization hasn't converged yet.\n",
      "  % self.max_iter, ConvergenceWarning)\n"
     ]
    },
    {
     "name": "stdout",
     "output_type": "stream",
     "text": [
      "RandomForestClassifier accuracy:  0.98\n",
      "GaussianNB accuracy:  0.96\n",
      "LinearSVC accuracy:  0.98\n",
      "LogisticRegression accuracy:  1.0\n"
     ]
    },
    {
     "name": "stderr",
     "output_type": "stream",
     "text": [
      "/usr/local/lib/python3.7/dist-packages/sklearn/svm/_base.py:947: ConvergenceWarning: Liblinear failed to converge, increase the number of iterations.\n",
      "  \"the number of iterations.\", ConvergenceWarning)\n",
      "/usr/local/lib/python3.7/dist-packages/sklearn/linear_model/_logistic.py:940: ConvergenceWarning: lbfgs failed to converge (status=1):\n",
      "STOP: TOTAL NO. of ITERATIONS REACHED LIMIT.\n",
      "\n",
      "Increase the number of iterations (max_iter) or scale the data as shown in:\n",
      "    https://scikit-learn.org/stable/modules/preprocessing.html\n",
      "Please also refer to the documentation for alternative solver options:\n",
      "    https://scikit-learn.org/stable/modules/linear_model.html#logistic-regression\n",
      "  extra_warning_msg=_LOGISTIC_SOLVER_CONVERGENCE_MSG)\n"
     ]
    },
    {
     "name": "stdout",
     "output_type": "stream",
     "text": [
      "XGBClassifier accuracy:  0.98\n",
      "load_boston\n",
      "DecisionTreeRegressor accuracy:  0.7514129834828985\n"
     ]
    },
    {
     "name": "stderr",
     "output_type": "stream",
     "text": [
      "/usr/local/lib/python3.7/dist-packages/sklearn/neural_network/_multilayer_perceptron.py:571: ConvergenceWarning: Stochastic Optimizer: Maximum iterations (200) reached and the optimization hasn't converged yet.\n",
      "  % self.max_iter, ConvergenceWarning)\n"
     ]
    },
    {
     "name": "stdout",
     "output_type": "stream",
     "text": [
      "MLPRegressor accuracy:  0.615450665222141\n",
      "KNeighborsRegressor accuracy:  0.5748334691810936\n",
      "RandomForestRegressor accuracy:  0.8627218878397265\n",
      "LinearSVR accuracy:  0.30126863175216845\n",
      "LinearRegression accuracy:  0.7261570836552481\n",
      "[08:03:26] WARNING: /workspace/src/objective/regression_obj.cu:152: reg:linear is now deprecated in favor of reg:squarederror.\n"
     ]
    },
    {
     "name": "stderr",
     "output_type": "stream",
     "text": [
      "/usr/local/lib/python3.7/dist-packages/sklearn/svm/_base.py:947: ConvergenceWarning: Liblinear failed to converge, increase the number of iterations.\n",
      "  \"the number of iterations.\", ConvergenceWarning)\n"
     ]
    },
    {
     "name": "stdout",
     "output_type": "stream",
     "text": [
      "XGBRegressor accuracy:  0.8906424514798732\n",
      "load_diabetes\n",
      "DecisionTreeRegressor accuracy:  -0.15202062095000368\n"
     ]
    },
    {
     "name": "stderr",
     "output_type": "stream",
     "text": [
      "/usr/local/lib/python3.7/dist-packages/sklearn/neural_network/_multilayer_perceptron.py:571: ConvergenceWarning: Stochastic Optimizer: Maximum iterations (200) reached and the optimization hasn't converged yet.\n",
      "  % self.max_iter, ConvergenceWarning)\n"
     ]
    },
    {
     "name": "stdout",
     "output_type": "stream",
     "text": [
      "MLPRegressor accuracy:  -3.086784987506947\n",
      "KNeighborsRegressor accuracy:  0.43975256620686554\n",
      "RandomForestRegressor accuracy:  0.47198314771902505\n",
      "LinearSVR accuracy:  -0.42343950619158965\n",
      "LinearRegression accuracy:  0.510395426135144\n",
      "[08:03:27] WARNING: /workspace/src/objective/regression_obj.cu:152: reg:linear is now deprecated in favor of reg:squarederror.\n",
      "XGBRegressor accuracy:  0.4297231468315629\n",
      "load_digits\n",
      "DecisionTreeClassifier accuracy:  0.8333333333333334\n",
      "MLPClassifier accuracy:  0.9747474747474747\n",
      "KNeighborsClassifier accuracy:  0.9932659932659933\n",
      "RandomForestClassifier accuracy:  0.9747474747474747\n",
      "GaussianNB accuracy:  0.8164983164983165\n"
     ]
    },
    {
     "name": "stderr",
     "output_type": "stream",
     "text": [
      "/usr/local/lib/python3.7/dist-packages/sklearn/svm/_base.py:947: ConvergenceWarning: Liblinear failed to converge, increase the number of iterations.\n",
      "  \"the number of iterations.\", ConvergenceWarning)\n"
     ]
    },
    {
     "name": "stdout",
     "output_type": "stream",
     "text": [
      "LinearSVC accuracy:  0.9444444444444444\n"
     ]
    },
    {
     "name": "stderr",
     "output_type": "stream",
     "text": [
      "/usr/local/lib/python3.7/dist-packages/sklearn/linear_model/_logistic.py:940: ConvergenceWarning: lbfgs failed to converge (status=1):\n",
      "STOP: TOTAL NO. of ITERATIONS REACHED LIMIT.\n",
      "\n",
      "Increase the number of iterations (max_iter) or scale the data as shown in:\n",
      "    https://scikit-learn.org/stable/modules/preprocessing.html\n",
      "Please also refer to the documentation for alternative solver options:\n",
      "    https://scikit-learn.org/stable/modules/linear_model.html#logistic-regression\n",
      "  extra_warning_msg=_LOGISTIC_SOLVER_CONVERGENCE_MSG)\n"
     ]
    },
    {
     "name": "stdout",
     "output_type": "stream",
     "text": [
      "LogisticRegression accuracy:  0.9629629629629629\n",
      "XGBClassifier accuracy:  0.9646464646464646\n",
      "load_wine\n",
      "DecisionTreeClassifier accuracy:  0.9491525423728814\n"
     ]
    },
    {
     "name": "stderr",
     "output_type": "stream",
     "text": [
      "/usr/local/lib/python3.7/dist-packages/sklearn/neural_network/_multilayer_perceptron.py:571: ConvergenceWarning: Stochastic Optimizer: Maximum iterations (200) reached and the optimization hasn't converged yet.\n",
      "  % self.max_iter, ConvergenceWarning)\n"
     ]
    },
    {
     "name": "stdout",
     "output_type": "stream",
     "text": [
      "MLPClassifier accuracy:  0.8813559322033898\n",
      "KNeighborsClassifier accuracy:  0.6779661016949152\n",
      "RandomForestClassifier accuracy:  1.0\n",
      "GaussianNB accuracy:  1.0\n"
     ]
    },
    {
     "name": "stderr",
     "output_type": "stream",
     "text": [
      "/usr/local/lib/python3.7/dist-packages/sklearn/svm/_base.py:947: ConvergenceWarning: Liblinear failed to converge, increase the number of iterations.\n",
      "  \"the number of iterations.\", ConvergenceWarning)\n",
      "/usr/local/lib/python3.7/dist-packages/sklearn/linear_model/_logistic.py:940: ConvergenceWarning: lbfgs failed to converge (status=1):\n",
      "STOP: TOTAL NO. of ITERATIONS REACHED LIMIT.\n",
      "\n",
      "Increase the number of iterations (max_iter) or scale the data as shown in:\n",
      "    https://scikit-learn.org/stable/modules/preprocessing.html\n",
      "Please also refer to the documentation for alternative solver options:\n",
      "    https://scikit-learn.org/stable/modules/linear_model.html#logistic-regression\n",
      "  extra_warning_msg=_LOGISTIC_SOLVER_CONVERGENCE_MSG)\n"
     ]
    },
    {
     "name": "stdout",
     "output_type": "stream",
     "text": [
      "LinearSVC accuracy:  0.9152542372881356\n",
      "LogisticRegression accuracy:  0.9830508474576272\n",
      "XGBClassifier accuracy:  0.9830508474576272\n",
      "load_breast_cancer\n",
      "DecisionTreeRegressor accuracy:  0.6985321327248057\n"
     ]
    },
    {
     "name": "stderr",
     "output_type": "stream",
     "text": [
      "/usr/local/lib/python3.7/dist-packages/sklearn/neural_network/_multilayer_perceptron.py:571: ConvergenceWarning: Stochastic Optimizer: Maximum iterations (200) reached and the optimization hasn't converged yet.\n",
      "  % self.max_iter, ConvergenceWarning)\n"
     ]
    },
    {
     "name": "stdout",
     "output_type": "stream",
     "text": [
      "MLPRegressor accuracy:  -3.7012407086130654\n",
      "KNeighborsRegressor accuracy:  0.8497298630812877\n",
      "RandomForestRegressor accuracy:  0.8405629209325274\n",
      "LinearSVR accuracy:  0.31458587908767177\n",
      "LinearRegression accuracy:  0.6911359869475926\n",
      "[08:03:43] WARNING: /workspace/src/objective/regression_obj.cu:152: reg:linear is now deprecated in favor of reg:squarederror.\n"
     ]
    },
    {
     "name": "stderr",
     "output_type": "stream",
     "text": [
      "/usr/local/lib/python3.7/dist-packages/sklearn/svm/_base.py:947: ConvergenceWarning: Liblinear failed to converge, increase the number of iterations.\n",
      "  \"the number of iterations.\", ConvergenceWarning)\n"
     ]
    },
    {
     "name": "stdout",
     "output_type": "stream",
     "text": [
      "XGBRegressor accuracy:  0.8301625511124916\n"
     ]
    }
   ],
   "source": [
    "#from sklearn.tree import ExtraTreeClassifier\n",
    "from sklearn.tree import DecisionTreeClassifier, DecisionTreeRegressor\n",
    "#from sklearn.svm.classes import OneClassSVM\n",
    "from sklearn.neural_network.multilayer_perceptron import MLPClassifier, MLPRegressor\n",
    "#from sklearn.neighbors.classification import RadiusNeighborsClassifier\n",
    "from sklearn.neighbors import KNeighborsClassifier, KNeighborsRegressor\n",
    "#from sklearn.multioutput import ClassifierChain\n",
    "#from sklearn.multioutput import MultiOutputClassifier\n",
    "#from sklearn.multiclass import OutputCodeClassifier\n",
    "#from sklearn.multiclass import OneVsOneClassifier\n",
    "#from sklearn.multiclass import OneVsRestClassifier\n",
    "#from sklearn.linear_model.stochastic_gradient import SGDClassifier\n",
    "#from sklearn.linear_model.ridge import RidgeClassifierCV\n",
    "#from sklearn.linear_model.ridge import RidgeClassifier\n",
    "#from sklearn.linear_model.passive_aggressive import PassiveAggressiveClassifier    \n",
    "#from sklearn.gaussian_process.gpc import GaussianProcessClassifier\n",
    "#from sklearn.ensemble.voting_classifier import VotingClassifier\n",
    "#from sklearn.ensemble.weight_boosting import AdaBoostClassifier\n",
    "#from sklearn.ensemble.gradient_boosting import GradientBoostingClassifier\n",
    "#from sklearn.ensemble.bagging import BaggingClassifier\n",
    "#from sklearn.ensemble.forest import ExtraTreesClassifier\n",
    "from sklearn.ensemble.forest import RandomForestClassifier, RandomForestRegressor\n",
    "#from sklearn.naive_bayes import BernoulliNB\n",
    "#from sklearn.calibration import CalibratedClassifierCV\n",
    "from sklearn.naive_bayes import GaussianNB\n",
    "#from sklearn.semi_supervised import LabelPropagation\n",
    "#from sklearn.semi_supervised import LabelSpreading\n",
    "#from sklearn.discriminant_analysis import LinearDiscriminantAnalysis\n",
    "from sklearn.svm import LinearSVC, LinearSVR\n",
    "from sklearn.linear_model import LogisticRegression, LinearRegression\n",
    "#from sklearn.linear_model import LogisticRegressionCV\n",
    "#from sklearn.naive_bayes import MultinomialNB  \n",
    "#from sklearn.neighbors import NearestCentroid\n",
    "#from sklearn.svm import NuSVC\n",
    "from xgboost import XGBRegressor, XGBClassifier\n",
    "\n",
    "classifiers = [DecisionTreeClassifier, MLPClassifier, KNeighborsClassifier, RandomForestClassifier, GaussianNB, LinearSVC, LogisticRegression, XGBClassifier]\n",
    "regressors = [DecisionTreeRegressor, MLPRegressor, KNeighborsRegressor, RandomForestRegressor, LinearSVR, LinearRegression, XGBRegressor]\n",
    "\n",
    "results = {}\n",
    "\n",
    "data_loaders = [load_iris, load_boston, load_diabetes, load_digits, load_wine, load_breast_cancer]\n",
    "for loader in data_loaders:\n",
    "    loader_name = loader.__name__\n",
    "    print(loader_name)\n",
    "    results[loader_name] = {}\n",
    "    X = loader().data\n",
    "    y = loader().target\n",
    "\n",
    "    X_train, X_test, y_train, y_test = train_test_split(X, y, test_size=0.33, random_state=42)\n",
    "    if 'Classification' in loader().DESCR:\n",
    "        models = classifiers\n",
    "    else:\n",
    "        models = regressors\n",
    "\n",
    "    for m in models:\n",
    "        model_name = m.__name__\n",
    "        drop = {}\n",
    "\n",
    "        if \"XGB\" in model_name:\n",
    "            m = m(tree_method='gpu_hist')\n",
    "        else:\n",
    "            m = m()\n",
    "        fitted = m.fit(X=X_train, y=y_train)\n",
    "\n",
    "        y_pred = fitted.predict(X_test)\n",
    "\n",
    "        if 'Classification' in loader().DESCR:\n",
    "            score = accuracy_score(y_test, y_pred)\n",
    "        else: \n",
    "            score = r2_score(y_test, y_pred)\n",
    "\n",
    "        results[loader_name][model_name]['score'] = score\n",
    "        print(f'{model_name} accuracy: ', score)\n"
   ]
  },
  {
   "cell_type": "code",
   "execution_count": null,
   "metadata": {
    "colab": {
     "base_uri": "https://localhost:8080/"
    },
    "id": "owaINkqJOfwp",
    "outputId": "56b27ab4-87b0-46a8-a1a5-d0a77eec31b1"
   },
   "outputs": [
    {
     "name": "stdout",
     "output_type": "stream",
     "text": [
      "Best model on load_iris was MLPClassifier with score: 1.0\n",
      "Best model on load_boston was XGBRegressor with score: 0.8906424514798732\n",
      "Best model on load_diabetes was LinearRegression with score: 0.510395426135144\n",
      "Best model on load_digits was KNeighborsClassifier with score: 0.9932659932659933\n",
      "Best model on load_wine was RandomForestClassifier with score: 1.0\n",
      "Best model on load_breast_cancer was KNeighborsRegressor with score: 0.8497298630812877\n"
     ]
    }
   ],
   "source": [
    "for k, v in results.items():\n",
    "    best_model = ''\n",
    "    highest_score = -999\n",
    "    for a, b, in v.items():\n",
    "        if b['score'] > highest_score:\n",
    "            best_model = a\n",
    "            highest_score = b['score']\n",
    "    print(f'Best model on {k} was {best_model} with score: {highest_score}')\n"
   ]
  },
  {
   "cell_type": "code",
   "execution_count": null,
   "metadata": {
    "colab": {
     "base_uri": "https://localhost:8080/"
    },
    "id": "QKgpKCj5Hpal",
    "outputId": "d3e5483f-82a5-407c-b6de-e6aae1809158"
   },
   "outputs": [
    {
     "data": {
      "text/plain": [
       "{'load_boston': {'DecisionTreeRegressor': {'score': 0.7514129834828985},\n",
       "  'KNeighborsRegressor': {'score': 0.5748334691810936},\n",
       "  'LinearRegression': {'score': 0.7261570836552481},\n",
       "  'LinearSVR': {'score': 0.30126863175216845},\n",
       "  'MLPRegressor': {'score': 0.615450665222141},\n",
       "  'RandomForestRegressor': {'score': 0.8627218878397265},\n",
       "  'XGBRegressor': {'score': 0.8906424514798732}},\n",
       " 'load_breast_cancer': {'DecisionTreeRegressor': {'score': 0.6985321327248057},\n",
       "  'KNeighborsRegressor': {'score': 0.8497298630812877},\n",
       "  'LinearRegression': {'score': 0.6911359869475926},\n",
       "  'LinearSVR': {'score': 0.31458587908767177},\n",
       "  'MLPRegressor': {'score': -3.7012407086130654},\n",
       "  'RandomForestRegressor': {'score': 0.8405629209325274},\n",
       "  'XGBRegressor': {'score': 0.8301625511124916}},\n",
       " 'load_diabetes': {'DecisionTreeRegressor': {'score': -0.15202062095000368},\n",
       "  'KNeighborsRegressor': {'score': 0.43975256620686554},\n",
       "  'LinearRegression': {'score': 0.510395426135144},\n",
       "  'LinearSVR': {'score': -0.42343950619158965},\n",
       "  'MLPRegressor': {'score': -3.086784987506947},\n",
       "  'RandomForestRegressor': {'score': 0.47198314771902505},\n",
       "  'XGBRegressor': {'score': 0.4297231468315629}},\n",
       " 'load_digits': {'DecisionTreeClassifier': {'score': 0.8333333333333334},\n",
       "  'GaussianNB': {'score': 0.8164983164983165},\n",
       "  'KNeighborsClassifier': {'score': 0.9932659932659933},\n",
       "  'LinearSVC': {'score': 0.9444444444444444},\n",
       "  'LogisticRegression': {'score': 0.9629629629629629},\n",
       "  'MLPClassifier': {'score': 0.9747474747474747},\n",
       "  'RandomForestClassifier': {'score': 0.9747474747474747},\n",
       "  'XGBClassifier': {'score': 0.9646464646464646}},\n",
       " 'load_iris': {'DecisionTreeClassifier': {'score': 0.98},\n",
       "  'GaussianNB': {'score': 0.96},\n",
       "  'KNeighborsClassifier': {'score': 0.98},\n",
       "  'LinearSVC': {'score': 0.98},\n",
       "  'LogisticRegression': {'score': 1.0},\n",
       "  'MLPClassifier': {'score': 1.0},\n",
       "  'RandomForestClassifier': {'score': 0.98},\n",
       "  'XGBClassifier': {'score': 0.98}},\n",
       " 'load_wine': {'DecisionTreeClassifier': {'score': 0.9491525423728814},\n",
       "  'GaussianNB': {'score': 1.0},\n",
       "  'KNeighborsClassifier': {'score': 0.6779661016949152},\n",
       "  'LinearSVC': {'score': 0.9152542372881356},\n",
       "  'LogisticRegression': {'score': 0.9830508474576272},\n",
       "  'MLPClassifier': {'score': 0.8813559322033898},\n",
       "  'RandomForestClassifier': {'score': 1.0},\n",
       "  'XGBClassifier': {'score': 0.9830508474576272}}}"
      ]
     },
     "execution_count": 7,
     "metadata": {},
     "output_type": "execute_result"
    }
   ],
   "source": [
    "results"
   ]
  },
  {
   "cell_type": "markdown",
   "metadata": {
    "id": "SPriRhw0RvPs"
   },
   "source": [
    "## Neural Nets"
   ]
  },
  {
   "cell_type": "markdown",
   "metadata": {
    "id": "6eLXHx8LuNsi"
   },
   "source": [
    "The moment you have all been waiting for, let's finally build our own neural network architecture! While you have already used Neural Nets in the previous assignment when using the Multi-Layer Perceptron (MLP), you did not really define an architecture. MLPs are generally a stack of fully connected a.k.a. Dense layers and that is what we will start with here as well. We will use one of the previous datasets and optimize the architecture below to improve the test accuracy."
   ]
  },
  {
   "cell_type": "code",
   "execution_count": null,
   "metadata": {
    "colab": {
     "base_uri": "https://localhost:8080/"
    },
    "id": "5nDFkGF2nRlI",
    "outputId": "f7182ab9-13fc-41f2-e189-86dc5df9392c"
   },
   "outputs": [
    {
     "data": {
      "text/plain": [
       "(100, 4)"
      ]
     },
     "execution_count": 5,
     "metadata": {},
     "output_type": "execute_result"
    }
   ],
   "source": [
    "# Load dataset\n",
    "from sklearn.datasets import load_iris\n",
    "\n",
    "loader = load_iris()\n",
    "X = loader.data\n",
    "y = loader.target\n",
    "\n",
    "X_train, X_test, y_train, y_test = train_test_split(X, y, test_size=0.33, random_state=42)\n",
    "X_train.shape"
   ]
  },
  {
   "cell_type": "markdown",
   "metadata": {
    "id": "MAzmm2EEyztR"
   },
   "source": [
    "### Encode the target data\n",
    "When doing a classification using NNs we generally one-hot encode the target variable. One-hot encoding meaning that we convert the target label into a binary vector where the length of the vector is the same size as the number of categories and we encode a class by keeping all scalars in the vector 0 except for the class that we want to encode which is 1. In other words, only one of the 10 values in the array can be 1 while all others are 0 and the location of the 1 represents the number in the class. so 4 becomes [0,0,0,1,0,0,0,0,0,0]\n",
    "\n",
    "We sadly do not have time to go into detail on why this is and how you should go about this. SKlearn's LaberBinarizer below will do the trick for you. For those that are curious, you encode classes in an array because when you use a single number the neural network will assume that class 1 is closer to class 2 than to class 7. Think of it as classifying pictures of animals, the networks would think that class 1 (dog) is closer to class 2 (horse) than to class 8 (cat).\n",
    "\n"
   ]
  },
  {
   "cell_type": "code",
   "execution_count": null,
   "metadata": {
    "colab": {
     "base_uri": "https://localhost:8080/"
    },
    "id": "iWQZTl0Aoty6",
    "outputId": "7169f125-8200-4a51-d8b2-58eaa6b6ac96"
   },
   "outputs": [
    {
     "name": "stdout",
     "output_type": "stream",
     "text": [
      "[0 1 0]\n"
     ]
    }
   ],
   "source": [
    "# Convert labels to onehot encoding\n",
    "from sklearn.preprocessing import LabelBinarizer\n",
    "lb = LabelBinarizer()\n",
    "lb.fit(y_train)\n",
    "y_train = lb.transform(y_train)\n",
    "y_test = lb.transform(y_test)\n",
    "print(y_train[0])"
   ]
  },
  {
   "cell_type": "markdown",
   "metadata": {
    "id": "6KgwMxMYzaZ_"
   },
   "source": [
    "### Designing the Neural Network\n",
    "Designing an NN is a bit more complex than the algorithms used in challenge 1. As mentioned in the crash course an NN exists of multiple layers of which each can be of a different type.\n",
    "\n",
    "We can build up the NN using Keras' sequential model.\n",
    "\n",
    "The network blow uses standard Dense layers and ReLu activation functions. When you feel adventurous you can change these but for this exercise, we advise keeping those set. The first number in each layer defines the number of neurons in the layer and with that the limit of the amount of information that layer can pass to the next. The first layer is called the input layer, here you will need to define the shape of data it should be expecting. Based on this it can determine how many incoming connections each neuron will need. The Last Dense layer should compress the influx of data to the number of classes that exist, therefore the number of neurons should equal the number of classes. In the case of classification, the activation function should determine the choice your model is making. You can choose from several activation functions or even create your own, but when doing classification SoftMax is generally used.\n",
    " "
   ]
  },
  {
   "cell_type": "code",
   "execution_count": null,
   "metadata": {
    "id": "wVaqLcfbnRn4"
   },
   "outputs": [],
   "source": [
    "from tensorflow import keras\n",
    "\n",
    "def define_model(input_shape, num_classes):\n",
    "    # Build the architecture\n",
    "    model = keras.Sequential(\n",
    "        [\n",
    "            keras.layers.Dense(32, activation=\"relu\", input_shape=input_shape),\n",
    "            keras.layers.Dense(16, activation=\"relu\"),\n",
    "            keras.layers.Dense(10, activation=\"relu\"),\n",
    "            keras.layers.Dense(num_classes, activation=\"softmax\"),\n",
    "        ]\n",
    "    )\n",
    "\n",
    "    print(model.summary())\n",
    "    return model"
   ]
  },
  {
   "cell_type": "markdown",
   "metadata": {
    "id": "XoZA3DeF3EC9"
   },
   "source": [
    "### Training the network\n",
    "When training a model we need to define the number of epochs it will run for. Furthermore, we need an optimizer, you can use a classic SDG optimizer but here we chose Adam which is similar but has an adaptive learning rate, so you don't need to choose one. Finally, we select a loss function that determines how well the NN is performing. For classification generally Categorical Crossentropy is used. "
   ]
  },
  {
   "cell_type": "code",
   "execution_count": null,
   "metadata": {
    "colab": {
     "base_uri": "https://localhost:8080/"
    },
    "id": "EhhKfVzQn29Q",
    "outputId": "63d363ce-06bf-42d8-975c-3c8da9fb66ee"
   },
   "outputs": [
    {
     "name": "stdout",
     "output_type": "stream",
     "text": [
      "Model: \"sequential\"\n",
      "_________________________________________________________________\n",
      "Layer (type)                 Output Shape              Param #   \n",
      "=================================================================\n",
      "dense (Dense)                (None, 100, 32)           160       \n",
      "_________________________________________________________________\n",
      "dense_1 (Dense)              (None, 100, 16)           528       \n",
      "_________________________________________________________________\n",
      "dense_2 (Dense)              (None, 100, 10)           170       \n",
      "_________________________________________________________________\n",
      "dense_3 (Dense)              (None, 100, 3)            33        \n",
      "=================================================================\n",
      "Total params: 891\n",
      "Trainable params: 891\n",
      "Non-trainable params: 0\n",
      "_________________________________________________________________\n",
      "None\n",
      "Epoch 1/150\n",
      "WARNING:tensorflow:Model was constructed with shape (None, 100, 4) for input KerasTensor(type_spec=TensorSpec(shape=(None, 100, 4), dtype=tf.float32, name='dense_input'), name='dense_input', description=\"created by layer 'dense_input'\"), but it was called on an input with incompatible shape (None, 4).\n",
      "WARNING:tensorflow:Model was constructed with shape (None, 100, 4) for input KerasTensor(type_spec=TensorSpec(shape=(None, 100, 4), dtype=tf.float32, name='dense_input'), name='dense_input', description=\"created by layer 'dense_input'\"), but it was called on an input with incompatible shape (None, 4).\n",
      "4/4 [==============================] - 3s 5ms/step - loss: 1.0518 - accuracy: 0.4000\n",
      "Epoch 2/150\n",
      "4/4 [==============================] - 0s 4ms/step - loss: 1.0046 - accuracy: 0.3700\n",
      "Epoch 3/150\n",
      "4/4 [==============================] - 0s 6ms/step - loss: 0.9789 - accuracy: 0.3500\n",
      "Epoch 4/150\n",
      "4/4 [==============================] - 0s 5ms/step - loss: 0.9673 - accuracy: 0.3500\n",
      "Epoch 5/150\n",
      "4/4 [==============================] - 0s 5ms/step - loss: 0.9460 - accuracy: 0.4900\n",
      "Epoch 6/150\n",
      "4/4 [==============================] - 0s 5ms/step - loss: 0.9251 - accuracy: 0.6100\n",
      "Epoch 7/150\n",
      "4/4 [==============================] - 0s 5ms/step - loss: 0.9052 - accuracy: 0.6600\n",
      "Epoch 8/150\n",
      "4/4 [==============================] - 0s 5ms/step - loss: 0.8842 - accuracy: 0.6600\n",
      "Epoch 9/150\n",
      "4/4 [==============================] - 0s 5ms/step - loss: 0.8591 - accuracy: 0.6600\n",
      "Epoch 10/150\n",
      "4/4 [==============================] - 0s 5ms/step - loss: 0.8357 - accuracy: 0.6600\n",
      "Epoch 11/150\n",
      "4/4 [==============================] - 0s 5ms/step - loss: 0.8085 - accuracy: 0.6600\n",
      "Epoch 12/150\n",
      "4/4 [==============================] - 0s 6ms/step - loss: 0.7815 - accuracy: 0.7600\n",
      "Epoch 13/150\n",
      "4/4 [==============================] - 0s 6ms/step - loss: 0.7585 - accuracy: 0.8500\n",
      "Epoch 14/150\n",
      "4/4 [==============================] - 0s 5ms/step - loss: 0.7354 - accuracy: 0.8300\n",
      "Epoch 15/150\n",
      "4/4 [==============================] - 0s 5ms/step - loss: 0.7139 - accuracy: 0.7900\n",
      "Epoch 16/150\n",
      "4/4 [==============================] - 0s 5ms/step - loss: 0.6923 - accuracy: 0.8800\n",
      "Epoch 17/150\n",
      "4/4 [==============================] - 0s 5ms/step - loss: 0.6702 - accuracy: 0.9700\n",
      "Epoch 18/150\n",
      "4/4 [==============================] - 0s 5ms/step - loss: 0.6489 - accuracy: 0.9500\n",
      "Epoch 19/150\n",
      "4/4 [==============================] - 0s 7ms/step - loss: 0.6300 - accuracy: 0.9800\n",
      "Epoch 20/150\n",
      "4/4 [==============================] - 0s 5ms/step - loss: 0.6102 - accuracy: 0.9600\n",
      "Epoch 21/150\n",
      "4/4 [==============================] - 0s 5ms/step - loss: 0.5913 - accuracy: 0.9300\n",
      "Epoch 22/150\n",
      "4/4 [==============================] - 0s 5ms/step - loss: 0.5748 - accuracy: 0.9200\n",
      "Epoch 23/150\n",
      "4/4 [==============================] - 0s 5ms/step - loss: 0.5573 - accuracy: 0.8700\n",
      "Epoch 24/150\n",
      "4/4 [==============================] - 0s 5ms/step - loss: 0.5413 - accuracy: 0.8700\n",
      "Epoch 25/150\n",
      "4/4 [==============================] - 0s 5ms/step - loss: 0.5293 - accuracy: 0.9200\n",
      "Epoch 26/150\n",
      "4/4 [==============================] - 0s 6ms/step - loss: 0.5140 - accuracy: 0.9000\n",
      "Epoch 27/150\n",
      "4/4 [==============================] - 0s 5ms/step - loss: 0.5035 - accuracy: 0.8300\n",
      "Epoch 28/150\n",
      "4/4 [==============================] - 0s 5ms/step - loss: 0.4971 - accuracy: 0.7800\n",
      "Epoch 29/150\n",
      "4/4 [==============================] - 0s 6ms/step - loss: 0.4795 - accuracy: 0.8600\n",
      "Epoch 30/150\n",
      "4/4 [==============================] - 0s 6ms/step - loss: 0.4700 - accuracy: 0.9700\n",
      "Epoch 31/150\n",
      "4/4 [==============================] - 0s 6ms/step - loss: 0.4607 - accuracy: 0.9700\n",
      "Epoch 32/150\n",
      "4/4 [==============================] - 0s 5ms/step - loss: 0.4488 - accuracy: 0.9700\n",
      "Epoch 33/150\n",
      "4/4 [==============================] - 0s 7ms/step - loss: 0.4371 - accuracy: 0.9400\n",
      "Epoch 34/150\n",
      "4/4 [==============================] - 0s 5ms/step - loss: 0.4305 - accuracy: 0.8900\n",
      "Epoch 35/150\n",
      "4/4 [==============================] - 0s 6ms/step - loss: 0.4200 - accuracy: 0.9100\n",
      "Epoch 36/150\n",
      "4/4 [==============================] - 0s 5ms/step - loss: 0.4101 - accuracy: 0.9400\n",
      "Epoch 37/150\n",
      "4/4 [==============================] - 0s 5ms/step - loss: 0.4036 - accuracy: 0.9400\n",
      "Epoch 38/150\n",
      "4/4 [==============================] - 0s 5ms/step - loss: 0.3917 - accuracy: 0.9400\n",
      "Epoch 39/150\n",
      "4/4 [==============================] - 0s 5ms/step - loss: 0.3882 - accuracy: 0.9800\n",
      "Epoch 40/150\n",
      "4/4 [==============================] - 0s 6ms/step - loss: 0.3798 - accuracy: 0.9600\n",
      "Epoch 41/150\n",
      "4/4 [==============================] - 0s 6ms/step - loss: 0.3678 - accuracy: 0.9600\n",
      "Epoch 42/150\n",
      "4/4 [==============================] - 0s 5ms/step - loss: 0.3666 - accuracy: 0.9300\n",
      "Epoch 43/150\n",
      "4/4 [==============================] - 0s 4ms/step - loss: 0.3537 - accuracy: 0.9600\n",
      "Epoch 44/150\n",
      "4/4 [==============================] - 0s 5ms/step - loss: 0.3574 - accuracy: 0.9600\n",
      "Epoch 45/150\n",
      "4/4 [==============================] - 0s 5ms/step - loss: 0.3639 - accuracy: 0.9300\n",
      "Epoch 46/150\n",
      "4/4 [==============================] - 0s 6ms/step - loss: 0.3378 - accuracy: 0.9800\n",
      "Epoch 47/150\n",
      "4/4 [==============================] - 0s 5ms/step - loss: 0.3341 - accuracy: 0.9400\n",
      "Epoch 48/150\n",
      "4/4 [==============================] - 0s 5ms/step - loss: 0.3337 - accuracy: 0.9300\n",
      "Epoch 49/150\n",
      "4/4 [==============================] - 0s 6ms/step - loss: 0.3143 - accuracy: 0.9700\n",
      "Epoch 50/150\n",
      "4/4 [==============================] - 0s 6ms/step - loss: 0.3120 - accuracy: 0.9800\n",
      "Epoch 51/150\n",
      "4/4 [==============================] - 0s 5ms/step - loss: 0.3026 - accuracy: 0.9700\n",
      "Epoch 52/150\n",
      "4/4 [==============================] - 0s 5ms/step - loss: 0.2960 - accuracy: 0.9600\n",
      "Epoch 53/150\n",
      "4/4 [==============================] - 0s 6ms/step - loss: 0.2968 - accuracy: 0.9400\n",
      "Epoch 54/150\n",
      "4/4 [==============================] - 0s 6ms/step - loss: 0.2890 - accuracy: 0.9400\n",
      "Epoch 55/150\n",
      "4/4 [==============================] - 0s 5ms/step - loss: 0.2699 - accuracy: 0.9600\n",
      "Epoch 56/150\n",
      "4/4 [==============================] - 0s 7ms/step - loss: 0.2618 - accuracy: 0.9700\n",
      "Epoch 57/150\n",
      "4/4 [==============================] - 0s 5ms/step - loss: 0.2656 - accuracy: 0.9600\n",
      "Epoch 58/150\n",
      "4/4 [==============================] - 0s 7ms/step - loss: 0.2511 - accuracy: 0.9800\n",
      "Epoch 59/150\n",
      "4/4 [==============================] - 0s 5ms/step - loss: 0.2533 - accuracy: 0.9500\n",
      "Epoch 60/150\n",
      "4/4 [==============================] - 0s 6ms/step - loss: 0.2446 - accuracy: 0.9400\n",
      "Epoch 61/150\n",
      "4/4 [==============================] - 0s 5ms/step - loss: 0.2287 - accuracy: 0.9700\n",
      "Epoch 62/150\n",
      "4/4 [==============================] - 0s 4ms/step - loss: 0.2298 - accuracy: 0.9800\n",
      "Epoch 63/150\n",
      "4/4 [==============================] - 0s 5ms/step - loss: 0.2218 - accuracy: 0.9800\n",
      "Epoch 64/150\n",
      "4/4 [==============================] - 0s 10ms/step - loss: 0.2232 - accuracy: 0.9700\n",
      "Epoch 65/150\n",
      "4/4 [==============================] - 0s 5ms/step - loss: 0.2187 - accuracy: 0.9600\n",
      "Epoch 66/150\n",
      "4/4 [==============================] - 0s 5ms/step - loss: 0.2046 - accuracy: 0.9700\n",
      "Epoch 67/150\n",
      "4/4 [==============================] - 0s 5ms/step - loss: 0.1979 - accuracy: 0.9700\n",
      "Epoch 68/150\n",
      "4/4 [==============================] - 0s 6ms/step - loss: 0.1968 - accuracy: 0.9800\n",
      "Epoch 69/150\n",
      "4/4 [==============================] - 0s 5ms/step - loss: 0.1924 - accuracy: 0.9800\n",
      "Epoch 70/150\n",
      "4/4 [==============================] - 0s 7ms/step - loss: 0.1906 - accuracy: 0.9700\n",
      "Epoch 71/150\n",
      "4/4 [==============================] - 0s 5ms/step - loss: 0.1835 - accuracy: 0.9700\n",
      "Epoch 72/150\n",
      "4/4 [==============================] - 0s 6ms/step - loss: 0.1819 - accuracy: 0.9600\n",
      "Epoch 73/150\n",
      "4/4 [==============================] - 0s 5ms/step - loss: 0.1783 - accuracy: 0.9700\n",
      "Epoch 74/150\n",
      "4/4 [==============================] - 0s 5ms/step - loss: 0.1716 - accuracy: 0.9700\n",
      "Epoch 75/150\n",
      "4/4 [==============================] - 0s 6ms/step - loss: 0.1681 - accuracy: 0.9700\n",
      "Epoch 76/150\n",
      "4/4 [==============================] - 0s 8ms/step - loss: 0.1641 - accuracy: 0.9700\n",
      "Epoch 77/150\n",
      "4/4 [==============================] - 0s 5ms/step - loss: 0.1607 - accuracy: 0.9700\n",
      "Epoch 78/150\n",
      "4/4 [==============================] - 0s 6ms/step - loss: 0.1584 - accuracy: 0.9700\n",
      "Epoch 79/150\n",
      "4/4 [==============================] - 0s 5ms/step - loss: 0.1529 - accuracy: 0.9800\n",
      "Epoch 80/150\n",
      "4/4 [==============================] - 0s 5ms/step - loss: 0.1613 - accuracy: 0.9600\n",
      "Epoch 81/150\n",
      "4/4 [==============================] - 0s 5ms/step - loss: 0.1460 - accuracy: 0.9800\n",
      "Epoch 82/150\n",
      "4/4 [==============================] - 0s 5ms/step - loss: 0.1584 - accuracy: 0.9600\n",
      "Epoch 83/150\n",
      "4/4 [==============================] - 0s 5ms/step - loss: 0.1705 - accuracy: 0.9500\n",
      "Epoch 84/150\n",
      "4/4 [==============================] - 0s 5ms/step - loss: 0.1438 - accuracy: 0.9700\n",
      "Epoch 85/150\n",
      "4/4 [==============================] - 0s 6ms/step - loss: 0.1424 - accuracy: 0.9700\n",
      "Epoch 86/150\n",
      "4/4 [==============================] - 0s 5ms/step - loss: 0.1439 - accuracy: 0.9700\n",
      "Epoch 87/150\n",
      "4/4 [==============================] - 0s 7ms/step - loss: 0.1360 - accuracy: 0.9700\n",
      "Epoch 88/150\n",
      "4/4 [==============================] - 0s 6ms/step - loss: 0.1327 - accuracy: 0.9700\n",
      "Epoch 89/150\n",
      "4/4 [==============================] - 0s 5ms/step - loss: 0.1319 - accuracy: 0.9700\n",
      "Epoch 90/150\n",
      "4/4 [==============================] - 0s 5ms/step - loss: 0.1279 - accuracy: 0.9700\n",
      "Epoch 91/150\n",
      "4/4 [==============================] - 0s 5ms/step - loss: 0.1257 - accuracy: 0.9700\n",
      "Epoch 92/150\n",
      "4/4 [==============================] - 0s 5ms/step - loss: 0.1241 - accuracy: 0.9700\n",
      "Epoch 93/150\n",
      "4/4 [==============================] - 0s 7ms/step - loss: 0.1224 - accuracy: 0.9700\n",
      "Epoch 94/150\n",
      "4/4 [==============================] - 0s 5ms/step - loss: 0.1214 - accuracy: 0.9700\n",
      "Epoch 95/150\n",
      "4/4 [==============================] - 0s 6ms/step - loss: 0.1175 - accuracy: 0.9700\n",
      "Epoch 96/150\n",
      "4/4 [==============================] - 0s 6ms/step - loss: 0.1300 - accuracy: 0.9600\n",
      "Epoch 97/150\n",
      "4/4 [==============================] - 0s 5ms/step - loss: 0.1174 - accuracy: 0.9800\n",
      "Epoch 98/150\n",
      "4/4 [==============================] - 0s 9ms/step - loss: 0.1267 - accuracy: 0.9600\n",
      "Epoch 99/150\n",
      "4/4 [==============================] - 0s 5ms/step - loss: 0.1348 - accuracy: 0.9500\n",
      "Epoch 100/150\n",
      "4/4 [==============================] - 0s 6ms/step - loss: 0.1118 - accuracy: 0.9700\n",
      "Epoch 101/150\n",
      "4/4 [==============================] - 0s 6ms/step - loss: 0.1224 - accuracy: 0.9600\n",
      "Epoch 102/150\n",
      "4/4 [==============================] - 0s 6ms/step - loss: 0.1096 - accuracy: 0.9800\n",
      "Epoch 103/150\n",
      "4/4 [==============================] - 0s 5ms/step - loss: 0.1107 - accuracy: 0.9700\n",
      "Epoch 104/150\n",
      "4/4 [==============================] - 0s 5ms/step - loss: 0.1184 - accuracy: 0.9700\n",
      "Epoch 105/150\n",
      "4/4 [==============================] - 0s 6ms/step - loss: 0.1107 - accuracy: 0.9700\n",
      "Epoch 106/150\n",
      "4/4 [==============================] - 0s 5ms/step - loss: 0.1077 - accuracy: 0.9700\n",
      "Epoch 107/150\n",
      "4/4 [==============================] - 0s 5ms/step - loss: 0.1091 - accuracy: 0.9700\n",
      "Epoch 108/150\n",
      "4/4 [==============================] - 0s 6ms/step - loss: 0.1024 - accuracy: 0.9800\n",
      "Epoch 109/150\n",
      "4/4 [==============================] - 0s 5ms/step - loss: 0.1017 - accuracy: 0.9800\n",
      "Epoch 110/150\n",
      "4/4 [==============================] - 0s 6ms/step - loss: 0.1002 - accuracy: 0.9800\n",
      "Epoch 111/150\n",
      "4/4 [==============================] - 0s 7ms/step - loss: 0.1056 - accuracy: 0.9700\n",
      "Epoch 112/150\n",
      "4/4 [==============================] - 0s 5ms/step - loss: 0.1000 - accuracy: 0.9800\n",
      "Epoch 113/150\n",
      "4/4 [==============================] - 0s 5ms/step - loss: 0.1007 - accuracy: 0.9700\n",
      "Epoch 114/150\n",
      "4/4 [==============================] - 0s 6ms/step - loss: 0.1001 - accuracy: 0.9700\n",
      "Epoch 115/150\n",
      "4/4 [==============================] - 0s 6ms/step - loss: 0.0985 - accuracy: 0.9700\n",
      "Epoch 116/150\n",
      "4/4 [==============================] - 0s 6ms/step - loss: 0.0962 - accuracy: 0.9600\n",
      "Epoch 117/150\n",
      "4/4 [==============================] - 0s 7ms/step - loss: 0.0966 - accuracy: 0.9700\n",
      "Epoch 118/150\n",
      "4/4 [==============================] - 0s 5ms/step - loss: 0.0973 - accuracy: 0.9700\n",
      "Epoch 119/150\n",
      "4/4 [==============================] - 0s 5ms/step - loss: 0.0914 - accuracy: 0.9800\n",
      "Epoch 120/150\n",
      "4/4 [==============================] - 0s 6ms/step - loss: 0.0975 - accuracy: 0.9700\n",
      "Epoch 121/150\n",
      "4/4 [==============================] - 0s 5ms/step - loss: 0.0974 - accuracy: 0.9700\n",
      "Epoch 122/150\n",
      "4/4 [==============================] - 0s 5ms/step - loss: 0.0882 - accuracy: 0.9900\n",
      "Epoch 123/150\n",
      "4/4 [==============================] - 0s 7ms/step - loss: 0.0962 - accuracy: 0.9700\n",
      "Epoch 124/150\n",
      "4/4 [==============================] - 0s 5ms/step - loss: 0.0905 - accuracy: 0.9800\n",
      "Epoch 125/150\n",
      "4/4 [==============================] - 0s 5ms/step - loss: 0.0929 - accuracy: 0.9700\n",
      "Epoch 126/150\n",
      "4/4 [==============================] - 0s 5ms/step - loss: 0.0917 - accuracy: 0.9700\n",
      "Epoch 127/150\n",
      "4/4 [==============================] - 0s 5ms/step - loss: 0.0857 - accuracy: 0.9800\n",
      "Epoch 128/150\n",
      "4/4 [==============================] - 0s 6ms/step - loss: 0.0882 - accuracy: 0.9800\n",
      "Epoch 129/150\n",
      "4/4 [==============================] - 0s 7ms/step - loss: 0.0862 - accuracy: 0.9800\n",
      "Epoch 130/150\n",
      "4/4 [==============================] - 0s 5ms/step - loss: 0.0854 - accuracy: 0.9900\n",
      "Epoch 131/150\n",
      "4/4 [==============================] - 0s 9ms/step - loss: 0.0874 - accuracy: 0.9700\n",
      "Epoch 132/150\n",
      "4/4 [==============================] - 0s 7ms/step - loss: 0.0843 - accuracy: 0.9800\n",
      "Epoch 133/150\n",
      "4/4 [==============================] - 0s 5ms/step - loss: 0.0840 - accuracy: 0.9800\n",
      "Epoch 134/150\n",
      "4/4 [==============================] - 0s 6ms/step - loss: 0.0844 - accuracy: 0.9800\n",
      "Epoch 135/150\n",
      "4/4 [==============================] - 0s 6ms/step - loss: 0.0879 - accuracy: 0.9700\n",
      "Epoch 136/150\n",
      "4/4 [==============================] - 0s 5ms/step - loss: 0.0845 - accuracy: 0.9800\n",
      "Epoch 137/150\n",
      "4/4 [==============================] - 0s 5ms/step - loss: 0.0832 - accuracy: 0.9700\n",
      "Epoch 138/150\n",
      "4/4 [==============================] - 0s 5ms/step - loss: 0.0844 - accuracy: 0.9700\n",
      "Epoch 139/150\n",
      "4/4 [==============================] - 0s 5ms/step - loss: 0.0823 - accuracy: 0.9800\n",
      "Epoch 140/150\n",
      "4/4 [==============================] - 0s 8ms/step - loss: 0.0835 - accuracy: 0.9800\n",
      "Epoch 141/150\n",
      "4/4 [==============================] - 0s 6ms/step - loss: 0.0928 - accuracy: 0.9600\n",
      "Epoch 142/150\n",
      "4/4 [==============================] - 0s 5ms/step - loss: 0.0863 - accuracy: 0.9600\n",
      "Epoch 143/150\n",
      "4/4 [==============================] - 0s 5ms/step - loss: 0.0790 - accuracy: 0.9800\n",
      "Epoch 144/150\n",
      "4/4 [==============================] - 0s 6ms/step - loss: 0.0825 - accuracy: 0.9700\n",
      "Epoch 145/150\n",
      "4/4 [==============================] - 0s 6ms/step - loss: 0.0791 - accuracy: 0.9800\n",
      "Epoch 146/150\n",
      "4/4 [==============================] - 0s 6ms/step - loss: 0.0823 - accuracy: 0.9700\n",
      "Epoch 147/150\n",
      "4/4 [==============================] - 0s 5ms/step - loss: 0.0853 - accuracy: 0.9600\n",
      "Epoch 148/150\n",
      "4/4 [==============================] - 0s 5ms/step - loss: 0.0781 - accuracy: 0.9700\n",
      "Epoch 149/150\n",
      "4/4 [==============================] - 0s 5ms/step - loss: 0.0791 - accuracy: 0.9700\n",
      "Epoch 150/150\n",
      "4/4 [==============================] - 0s 5ms/step - loss: 0.0790 - accuracy: 0.9700\n"
     ]
    }
   ],
   "source": [
    "num_epochs = 150\n",
    "input_shape = X_train.shape\n",
    "num_classes = y_train.shape[-1]\n",
    "\n",
    "model = define_model(input_shape, num_classes)\n",
    "model.compile(optimizer='adam', loss='categorical_crossentropy', metrics=['accuracy'])\n",
    "\n",
    "history = model.fit(X_train, y_train, epochs=num_epochs)"
   ]
  },
  {
   "cell_type": "markdown",
   "metadata": {
    "id": "Y2ROP0mI4njl"
   },
   "source": [
    "### Metric Scores\n",
    "Finally, we need to determine if our NN has actually learned something by testing it on data it has never seen before, the test set. Below we calculate the loss (categorical cross-entropy) which is a bit hard to interpret. But also the accuracy which can be used in case of classification and is very easy to interpret since it is basically the percentage of cases in the test set it predicted correctly."
   ]
  },
  {
   "cell_type": "code",
   "execution_count": null,
   "metadata": {
    "colab": {
     "base_uri": "https://localhost:8080/"
    },
    "id": "UKt-0TZbn3B8",
    "outputId": "ad5ec232-71ac-41a0-802d-ccadf66ad88c"
   },
   "outputs": [
    {
     "name": "stdout",
     "output_type": "stream",
     "text": [
      "WARNING:tensorflow:Model was constructed with shape (None, 100, 4) for input KerasTensor(type_spec=TensorSpec(shape=(None, 100, 4), dtype=tf.float32, name='dense_input'), name='dense_input', description=\"created by layer 'dense_input'\"), but it was called on an input with incompatible shape (None, 4).\n",
      "Test loss: 0.06666319072246552\n",
      "Test accuracy: 0.9599999785423279\n"
     ]
    }
   ],
   "source": [
    "score = model.evaluate(X_test, y_test, verbose=0)\n",
    "print(\"Test loss:\", score[0])\n",
    "print(\"Test accuracy:\", score[1])"
   ]
  },
  {
   "cell_type": "markdown",
   "metadata": {
    "id": "qwmpWTjG5gog"
   },
   "source": [
    "## **Challenge 2:** Tune the MLP\n",
    "Tune the parameters until you get a test accuracy of 98%. We advise starting with changing the number of layers and the number of neurons in each layer and proceed with changing the number of epochs. You are free to change anything else from the optimizer to the layer types but make sure to save enough time for the next challenge. "
   ]
  },
  {
   "cell_type": "markdown",
   "metadata": {
    "id": "u86En6iir7zI"
   },
   "source": [
    "## Convolutional Neural Networks\n",
    "This challenge is going to be a bit more, well... challenging. You are going to process image data and in the end-use Convolutional Neural Networks to process image data. These types of algorithms are designed to use multidimensional data where the spatial relations between the dimensions are relevant or in other words, good with pretty pictures.\n",
    "\n",
    "Today we are going to use the MNIST dataset, probably the most famous dataset in all of AI. It consists of 28x28 pixel pictures of handwritten numbers in black and white images.\n",
    "\n",
    "We are going to use some real Deep Learning here that benefits from GPU acceleration. Luckily Colab can provide us with a free GPU to train the neural networks faster. You can activate GPU acceleration in the Runtime tab: Runtime -> Change runtime type -> Select GPU from the dropdown\n",
    "\n"
   ]
  },
  {
   "cell_type": "markdown",
   "metadata": {
    "id": "JkKR-08csFI1"
   },
   "source": [
    "## Load the data"
   ]
  },
  {
   "cell_type": "code",
   "execution_count": null,
   "metadata": {
    "id": "wEEexzS4YLqh"
   },
   "outputs": [],
   "source": [
    "import numpy as np\n",
    "import matplotlib.pyplot as plt"
   ]
  },
  {
   "cell_type": "code",
   "execution_count": null,
   "metadata": {
    "colab": {
     "base_uri": "https://localhost:8080/"
    },
    "id": "aNaXlRm_gl76",
    "outputId": "ccd75677-bcb2-4d0c-e5b2-1558cb8f0a00"
   },
   "outputs": [
    {
     "name": "stdout",
     "output_type": "stream",
     "text": [
      "Downloading data from https://storage.googleapis.com/tensorflow/tf-keras-datasets/train-labels-idx1-ubyte.gz\n",
      "32768/29515 [=================================] - 0s 0us/step\n",
      "40960/29515 [=========================================] - 0s 0us/step\n",
      "Downloading data from https://storage.googleapis.com/tensorflow/tf-keras-datasets/train-images-idx3-ubyte.gz\n",
      "26427392/26421880 [==============================] - 0s 0us/step\n",
      "26435584/26421880 [==============================] - 0s 0us/step\n",
      "Downloading data from https://storage.googleapis.com/tensorflow/tf-keras-datasets/t10k-labels-idx1-ubyte.gz\n",
      "16384/5148 [===============================================================================================] - 0s 0us/step\n",
      "Downloading data from https://storage.googleapis.com/tensorflow/tf-keras-datasets/t10k-images-idx3-ubyte.gz\n",
      "4423680/4422102 [==============================] - 0s 0us/step\n",
      "4431872/4422102 [==============================] - 0s 0us/step\n",
      "(60000, 28, 28)\n",
      "(10000, 28, 28)\n"
     ]
    }
   ],
   "source": [
    "# Download the dataset\n",
    "from keras.datasets import mnist, fashion_mnist\n",
    "#(X_train, y_train), (X_test, y_test) = mnist.load_data()\n",
    "(X_train, y_train), (X_test, y_test) = fashion_mnist.load_data()\n",
    "print(X_train.shape)\n",
    "print(X_test.shape)"
   ]
  },
  {
   "cell_type": "code",
   "execution_count": null,
   "metadata": {
    "colab": {
     "base_uri": "https://localhost:8080/",
     "height": 281
    },
    "id": "A2iXRbCPgnrD",
    "outputId": "c9abd456-394a-45fb-df79-1660be044218"
   },
   "outputs": [
    {
     "name": "stdout",
     "output_type": "stream",
     "text": [
      "0\n"
     ]
    },
    {
     "data": {
      "image/png": "[encoded data removed]",
      "text/plain": [
       "<Figure size 432x288 with 1 Axes>"
      ]
     },
     "metadata": {
      "needs_background": "light"
     },
     "output_type": "display_data"
    }
   ],
   "source": [
    "# View example digit\n",
    "index = np.random.randint(0,60000)\n",
    "plt.imshow(X_train[index])\n",
    "print(y_train[index])"
   ]
  },
  {
   "cell_type": "code",
   "execution_count": null,
   "metadata": {
    "id": "P3-9JrJqzC3a"
   },
   "outputs": [],
   "source": []
  },
  {
   "cell_type": "markdown",
   "metadata": {
    "id": "6TMVvSDJzNIc"
   },
   "source": [
    "### Reshaping the data\n",
    "CNNs expect the data to be in a specific shape depending on the number of dimensions. Since we work with image data, we will use 2D CNN layers. The expected shape that would be as follows (number_of_samples, dimention_size_1, dimentionon_size_2, channel). Looking at the X_train. The shape above the first 3 is easy to derive. The number of training samples is 60000 and the images are 28*28 and therefore those would be the two dimension sizes. Channel would basically be the number of spectral wavelengths are in the data. For colored images this would be 3 (r,g,b) for black and white images this would just be 1, and for multispectral satellite images, this could be many more. In this case, we have black and white images, so we end up with the desired X_train shape of (60000,28,28,1). This is not the shape of our data as can be seen above, that would be (60000,28,28). This is because it has the intensity value in the second dimension instead of it being just a coordinate and an extra dimension for the intensity. Luckily we can easily reshape the data to our desired format."
   ]
  },
  {
   "cell_type": "code",
   "execution_count": null,
   "metadata": {
    "id": "UveRpDvhf9uj"
   },
   "outputs": [],
   "source": [
    "# Put it into suitable shape\n",
    "X_train = X_train.reshape(60000,28,28,1)\n",
    "X_test = X_test.reshape(10000,28,28,1)"
   ]
  },
  {
   "cell_type": "code",
   "execution_count": null,
   "metadata": {
    "colab": {
     "base_uri": "https://localhost:8080/"
    },
    "id": "FuK2gEM_wzPN",
    "outputId": "2754c188-1d7d-47f5-a83b-fe3e6686a426"
   },
   "outputs": [
    {
     "name": "stdout",
     "output_type": "stream",
     "text": [
      "[0 0 0 0 0 0 0 0 0 1]\n"
     ]
    }
   ],
   "source": [
    "# Convert labels to onehot (just like in previous example)\n",
    "from sklearn.preprocessing import LabelBinarizer\n",
    "lb = LabelBinarizer()\n",
    "lb.fit(y_train)\n",
    "y_train = lb.transform(y_train)\n",
    "y_test = lb.transform(y_test)\n",
    "print(y_train[0])"
   ]
  },
  {
   "cell_type": "markdown",
   "metadata": {
    "id": "GRGtw9743JZ_"
   },
   "source": [
    "### Architecture\n",
    "Now for the architecture\n",
    "\n",
    "- This time we defined the input in a separate Input Layer, which results in exactly the same as when you define input_shape in the first layer.\n",
    "- Then we do a single Convolutional layer\n",
    "- The last layer should stay a Dense layer with the number of classes for neurons just like with the previous. However, we can not just push 2D data into a 1D Dense layer therefore we need to Flatten the data first using a Flatten layer.\n",
    "\n",
    "\n",
    "Configuring the Conv2D layers will require some fiddling, here is the documentation:\n",
    "https://keras.io/api/layers/convolution_layers/convolution2d/\n",
    "<br><br>\n",
    "You should at least define a **filter size**, to keep it simple this number determines the amount of information that will be collected per output \"pixel\" in the output. So a higher number means more space for information but also longer compute times and larger model size. \n",
    "<br><br>\n",
    "Then you should also define a **kernel size** (also known as window) Which basically determines how much information is condensed into an output \"pixel\". This means that larger kernels result in a larger segment of the image will be cramped into a smaller resulting image. So here larger means less information pushed to the next layer. \n",
    "\n",
    "**Warning:** When adding Conv layers and changing kernel sizes you impact the shape of de \"image\" that is passed to the next layers, often making it smaller. This means that when you stack too many layers and/or use large kernel sizes, the image at some point will become smaller than 0x0 resulting in a crash. You can simply calculate the effect each propagating layer will have on the image but you can also pay extra attention to the model summary since that will show the resulting image dimensions after each layer.\n",
    " \n"
   ]
  },
  {
   "cell_type": "code",
   "execution_count": null,
   "metadata": {
    "id": "nTAKVGm6yqD2"
   },
   "outputs": [],
   "source": [
    "from tensorflow import keras\n",
    "from tensorflow.keras.layers import (Input, Conv2D, MaxPooling2D, Flatten, \n",
    "                                     Dense, Dropout, BatchNormalization, Activation)"
   ]
  },
  {
   "cell_type": "code",
   "execution_count": null,
   "metadata": {
    "id": "n7hnzeQAf9uj"
   },
   "outputs": [],
   "source": [
    "def define_cnn(input_shape, num_classes):\n",
    "    # Build the architecture\n",
    "    model = keras.Sequential()\n",
    "\n",
    "    # first CONV => RELU => CONV => RELU => POOL layer set\n",
    "    model.add(Conv2D(32, (3, 3), padding=\"same\",\n",
    "        input_shape=input_shape))\n",
    "    model.add(Activation(\"relu\"))\n",
    "    model.add(BatchNormalization())\n",
    "    model.add(Conv2D(32, (3, 3), padding=\"same\"))\n",
    "    model.add(Activation(\"relu\"))\n",
    "    model.add(BatchNormalization())\n",
    "    model.add(MaxPooling2D(pool_size=(2, 2)))\n",
    "    model.add(Dropout(0.25))\n",
    "    # second CONV => RELU => CONV => RELU => POOL layer set\n",
    "    model.add(Conv2D(64, (3, 3), padding=\"same\"))\n",
    "    model.add(Activation(\"relu\"))\n",
    "    model.add(BatchNormalization())\n",
    "    model.add(Conv2D(64, (3, 3), padding=\"same\"))\n",
    "    model.add(Activation(\"relu\"))\n",
    "    model.add(BatchNormalization())\n",
    "    model.add(MaxPooling2D(pool_size=(2, 2)))\n",
    "    model.add(Dropout(0.25))\n",
    "    # first (and only) set of FC => RELU layers\n",
    "    model.add(Flatten())\n",
    "    model.add(Dense(512))\n",
    "    model.add(Activation(\"relu\"))\n",
    "    model.add(BatchNormalization())\n",
    "    model.add(Dropout(0.5))\n",
    "    # softmax classifier\n",
    "    model.add(Dense(num_classes))\n",
    "    model.add(Activation(\"softmax\"))\n",
    "\n",
    "    model.summary()\n",
    "    return model\n",
    "\n"
   ]
  },
  {
   "cell_type": "markdown",
   "metadata": {
    "id": "r2XIOGBE240D"
   },
   "source": [
    "### Training the network\n",
    "For the optimizer we will use classic Stochastic Gradient Descent. There exist more advanced optimizers like Adam, but we will skip those for now. The loss defines how we punish the network for a mistake. Without going into the details Categorical Crossentropy is generally used with classification."
   ]
  },
  {
   "cell_type": "code",
   "execution_count": null,
   "metadata": {
    "colab": {
     "base_uri": "https://localhost:8080/"
    },
    "id": "DWfU_UfNyo0m",
    "outputId": "cd99ad72-838f-4923-b701-8728239b1be6"
   },
   "outputs": [
    {
     "name": "stdout",
     "output_type": "stream",
     "text": [
      "Model: \"sequential_1\"\n",
      "_________________________________________________________________\n",
      "Layer (type)                 Output Shape              Param #   \n",
      "=================================================================\n",
      "conv2d (Conv2D)              (None, 28, 28, 32)        320       \n",
      "_________________________________________________________________\n",
      "activation (Activation)      (None, 28, 28, 32)        0         \n",
      "_________________________________________________________________\n",
      "batch_normalization (BatchNo (None, 28, 28, 32)        128       \n",
      "_________________________________________________________________\n",
      "conv2d_1 (Conv2D)            (None, 28, 28, 32)        9248      \n",
      "_________________________________________________________________\n",
      "activation_1 (Activation)    (None, 28, 28, 32)        0         \n",
      "_________________________________________________________________\n",
      "batch_normalization_1 (Batch (None, 28, 28, 32)        128       \n",
      "_________________________________________________________________\n",
      "max_pooling2d (MaxPooling2D) (None, 14, 14, 32)        0         \n",
      "_________________________________________________________________\n",
      "dropout (Dropout)            (None, 14, 14, 32)        0         \n",
      "_________________________________________________________________\n",
      "conv2d_2 (Conv2D)            (None, 14, 14, 64)        18496     \n",
      "_________________________________________________________________\n",
      "activation_2 (Activation)    (None, 14, 14, 64)        0         \n",
      "_________________________________________________________________\n",
      "batch_normalization_2 (Batch (None, 14, 14, 64)        256       \n",
      "_________________________________________________________________\n",
      "conv2d_3 (Conv2D)            (None, 14, 14, 64)        36928     \n",
      "_________________________________________________________________\n",
      "activation_3 (Activation)    (None, 14, 14, 64)        0         \n",
      "_________________________________________________________________\n",
      "batch_normalization_3 (Batch (None, 14, 14, 64)        256       \n",
      "_________________________________________________________________\n",
      "max_pooling2d_1 (MaxPooling2 (None, 7, 7, 64)          0         \n",
      "_________________________________________________________________\n",
      "dropout_1 (Dropout)          (None, 7, 7, 64)          0         \n",
      "_________________________________________________________________\n",
      "flatten (Flatten)            (None, 3136)              0         \n",
      "_________________________________________________________________\n",
      "dense_4 (Dense)              (None, 512)               1606144   \n",
      "_________________________________________________________________\n",
      "activation_4 (Activation)    (None, 512)               0         \n",
      "_________________________________________________________________\n",
      "batch_normalization_4 (Batch (None, 512)               2048      \n",
      "_________________________________________________________________\n",
      "dropout_2 (Dropout)          (None, 512)               0         \n",
      "_________________________________________________________________\n",
      "dense_5 (Dense)              (None, 10)                5130      \n",
      "_________________________________________________________________\n",
      "activation_5 (Activation)    (None, 10)                0         \n",
      "=================================================================\n",
      "Total params: 1,679,082\n",
      "Trainable params: 1,677,674\n",
      "Non-trainable params: 1,408\n",
      "_________________________________________________________________\n",
      "Epoch 1/10\n",
      "1875/1875 [==============================] - 64s 18ms/step - loss: 0.4457 - accuracy: 0.8455 - val_loss: 0.2883 - val_accuracy: 0.9025\n",
      "Epoch 2/10\n",
      "1875/1875 [==============================] - 32s 17ms/step - loss: 0.2992 - accuracy: 0.8940 - val_loss: 0.2477 - val_accuracy: 0.9121\n",
      "Epoch 3/10\n",
      "1875/1875 [==============================] - 35s 18ms/step - loss: 0.2671 - accuracy: 0.9034 - val_loss: 0.2338 - val_accuracy: 0.9181\n",
      "Epoch 4/10\n",
      "1875/1875 [==============================] - 35s 18ms/step - loss: 0.2446 - accuracy: 0.9124 - val_loss: 0.2608 - val_accuracy: 0.9061\n",
      "Epoch 5/10\n",
      "1875/1875 [==============================] - 35s 18ms/step - loss: 0.2346 - accuracy: 0.9156 - val_loss: 0.2197 - val_accuracy: 0.9229\n",
      "Epoch 6/10\n",
      "1875/1875 [==============================] - 34s 18ms/step - loss: 0.2110 - accuracy: 0.9235 - val_loss: 0.2262 - val_accuracy: 0.9168\n",
      "Epoch 7/10\n",
      "1875/1875 [==============================] - 34s 18ms/step - loss: 0.2030 - accuracy: 0.9264 - val_loss: 0.2128 - val_accuracy: 0.9276\n",
      "Epoch 8/10\n",
      "1875/1875 [==============================] - 35s 19ms/step - loss: 0.1875 - accuracy: 0.9311 - val_loss: 0.1943 - val_accuracy: 0.9326\n",
      "Epoch 9/10\n",
      "1875/1875 [==============================] - 35s 19ms/step - loss: 0.1792 - accuracy: 0.9351 - val_loss: 0.1943 - val_accuracy: 0.9315\n",
      "Epoch 10/10\n",
      "1875/1875 [==============================] - 35s 19ms/step - loss: 0.1673 - accuracy: 0.9390 - val_loss: 0.1932 - val_accuracy: 0.9337\n"
     ]
    }
   ],
   "source": [
    "num_epochs = 10\n",
    "batch_size = 32\n",
    "input_shape = X_train.shape[1:]\n",
    "num_classes = y_train.shape[-1]\n",
    "\n",
    "model = define_cnn(input_shape, num_classes)\n",
    "model.compile(optimizer='adam', loss='categorical_crossentropy', metrics=['accuracy'])\n",
    "# Train and test\n",
    "H = model.fit(X_train, y_train, batch_size=batch_size, epochs=num_epochs, validation_data=(X_test, y_test))"
   ]
  },
  {
   "cell_type": "code",
   "execution_count": null,
   "metadata": {
    "colab": {
     "base_uri": "https://localhost:8080/"
    },
    "id": "6HpDQN0tyLFt",
    "outputId": "9c1505f3-41a6-4411-d592-f370cba182c7"
   },
   "outputs": [
    {
     "name": "stdout",
     "output_type": "stream",
     "text": [
      "Test loss: 0.19323410093784332\n",
      "Test accuracy: 0.9337000250816345\n"
     ]
    }
   ],
   "source": [
    "score = model.evaluate(X_test, y_test, verbose=0)\n",
    "print(\"Test loss:\", score[0])\n",
    "print(\"Test accuracy:\", score[1])"
   ]
  },
  {
   "cell_type": "markdown",
   "metadata": {
    "id": "JYksOsW1yo0m"
   },
   "source": [
    "## **Challenge 2:** Tune the CNN\n",
    "2.1: Add convolutional layers, change kernel and filter sizes to get to a 98% accuracy on the test dataset\n",
    "\n",
    "2.2: Go back to the data loader and change the MNIST loader to the Fashion MNIST loader \"fashion_mnist.load_data()\". Tune the parameters until you reach an accuracy of 87% on the test dataset.\n",
    "\n",
    "2.3 (Advanced): Include max-pooling, dropout, and batch normalization layers to reach a test accuracy of 90% on the test set.\n",
    "\n",
    "\n",
    "\n"
   ]
  },
  {
   "cell_type": "markdown",
   "metadata": {
    "id": "vA_9-0km8IYN"
   },
   "source": [
    "## **Challenge 3 (Extra Advanced):** Forecasting and RNNs\n",
    "Forecasting is a special branch of machine learning regression problems where you try to predict how the trend will proceed. Often this is still most successful with more classical statistical methods like variants on the Moving Average algorithm. These types of algorithms often require a better understanding of the dataset since its parameters really make or break the model. Note that for the following challenges no solutions are available and therefore no support will be provided.\n",
    "\n",
    "3.1 Facebook has created an algorithm called Prophet which is based on statistical methods which makes it a bit easier to create such models and often outperforms other algorithms. Install and deploy Prophet on the dataset below.\n",
    "\n",
    "3.2 Rolling SARIMAX is one of the most powerful statistical forecasting methods. While the algorithm itself is not too complex it can be hard to choose the correct parameters. Deploy a Rolling SARIMAX algorithm on the dataset below.\n",
    "\n",
    "3.3 RNNs are very well suited for forecasting use cases, more specifically the LSTM and GRU types of RNNs often work well (not perse better than the above methods). RNNs will come up themselves with the parameters you had to define in previous algorithms, however that does not make them easier to deploy. Use an LSTM to forecast on the dataset below.\n"
   ]
  },
  {
   "cell_type": "code",
   "execution_count": null,
   "metadata": {
    "colab": {
     "base_uri": "https://localhost:8080/",
     "height": 281
    },
    "id": "lvMB0-8Vyo0k",
    "outputId": "dbdf791c-2c72-44a3-d6ca-6a228a7a4362"
   },
   "outputs": [
    {
     "data": {
      "image/png": "[encoded data removed]",
      "text/plain": [
       "<Figure size 432x288 with 1 Axes>"
      ]
     },
     "metadata": {
      "needs_background": "light"
     },
     "output_type": "display_data"
    },
    {
     "name": "stdout",
     "output_type": "stream",
     "text": [
      "144\n"
     ]
    }
   ],
   "source": [
    "df = pd.read_csv('https://raw.githubusercontent.com/jbrownlee/Datasets/master/airline-passengers.csv', usecols=[1], engine='python')\n",
    "plt.plot(df)\n",
    "plt.show()\n",
    "print(len(df))"
   ]
  },
  {
   "cell_type": "code",
   "execution_count": null,
   "metadata": {
    "id": "Vj4RStrdSxMz"
   },
   "outputs": [],
   "source": [
    "test_steps = 36\n",
    "train, test = df[:test_steps], df[-test_steps:]"
   ]
  }
 ],
 "metadata": {
  "accelerator": "GPU",
  "colab": {
   "collapsed_sections": [],
   "name": "Week 1 - AI Models and Data Types - Answers",
   "provenance": []
  },
  "kernelspec": {
   "display_name": "Python 3 (ipykernel)",
   "language": "python",
   "name": "python3"
  },
  "language_info": {
   "codemirror_mode": {
    "name": "ipython",
    "version": 3
   },
   "file_extension": ".py",
   "mimetype": "text/x-python",
   "name": "python",
   "nbconvert_exporter": "python",
   "pygments_lexer": "ipython3",
   "version": "3.7.13"
  }
 },
 "nbformat": 4,
 "nbformat_minor": 1
}
