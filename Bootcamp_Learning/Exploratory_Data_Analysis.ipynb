{
 "cells": [
  {
   "cell_type": "code",
   "execution_count": null,
   "metadata": {
    "colab": {
     "base_uri": "https://localhost:8080/"
    },
    "id": "IvB1ISnKb3YQ",
    "outputId": "ea8b3029-bcce-4a9c-fa5d-8247b57a9d59"
   },
   "outputs": [
    {
     "name": "stdout",
     "output_type": "stream",
     "text": [
      "\u001b[?25l\r",
      "\u001b[K     |██████▌                         | 10 kB 12.3 MB/s eta 0:00:01\r",
      "\u001b[K     |█████████████                   | 20 kB 16.0 MB/s eta 0:00:01\r",
      "\u001b[K     |███████████████████▍            | 30 kB 17.1 MB/s eta 0:00:01\r",
      "\u001b[K     |██████████████████████████      | 40 kB 11.4 MB/s eta 0:00:01\r",
      "\u001b[K     |████████████████████████████████| 50 kB 2.6 MB/s \n",
      "\u001b[K     |████████████████████████████████| 132 kB 14.4 MB/s \n",
      "\u001b[K     |████████████████████████████████| 3.1 MB 36.2 MB/s \n",
      "\u001b[?25h"
     ]
    }
   ],
   "source": [
    "#!pip install autoviz -q"
   ]
  },
  {
   "cell_type": "code",
   "execution_count": null,
   "metadata": {
    "colab": {
     "base_uri": "https://localhost:8080/"
    },
    "id": "x6Kq001ql1zY",
    "outputId": "e6f65449-6411-448e-cdf8-c09f1a4552db"
   },
   "outputs": [
    {
     "name": "stdout",
     "output_type": "stream",
     "text": [
      "\u001b[K     |████████████████████████████████| 258 kB 8.4 MB/s \n",
      "\u001b[K     |████████████████████████████████| 4.7 MB 61.9 MB/s \n",
      "\u001b[K     |████████████████████████████████| 64 kB 3.9 MB/s \n",
      "\u001b[K     |████████████████████████████████| 675 kB 52.6 MB/s \n",
      "\u001b[K     |████████████████████████████████| 812 kB 49.6 MB/s \n",
      "\u001b[K     |████████████████████████████████| 38.2 MB 22 kB/s \n",
      "\u001b[?25h  Building wheel for htmlmin (setup.py) ... \u001b[?25l\u001b[?25hdone\n",
      "  Building wheel for imagehash (setup.py) ... \u001b[?25l\u001b[?25hdone\n",
      "\u001b[31mERROR: pip's dependency resolver does not currently take into account all the packages that are installed. This behaviour is the source of the following dependency conflicts.\n",
      "albumentations 0.1.12 requires imgaug<0.2.7,>=0.2.5, but you have imgaug 0.2.9 which is incompatible.\u001b[0m\n"
     ]
    }
   ],
   "source": [
    "#!pip install pandas_profiling==2.9.0 -U -q"
   ]
  },
  {
   "cell_type": "code",
   "execution_count": null,
   "metadata": {
    "colab": {
     "base_uri": "https://localhost:8080/"
    },
    "id": "TwUjrN7wIYNB",
    "outputId": "09f511c3-aaf1-4911-eed8-3de4f76d30d1"
   },
   "outputs": [
    {
     "name": "stdout",
     "output_type": "stream",
     "text": [
      "\u001b[?25l\r",
      "\u001b[K     |▉                               | 10 kB 25.0 MB/s eta 0:00:01\r",
      "\u001b[K     |█▊                              | 20 kB 28.7 MB/s eta 0:00:01\r",
      "\u001b[K     |██▋                             | 30 kB 19.4 MB/s eta 0:00:01\r",
      "\u001b[K     |███▌                            | 40 kB 16.3 MB/s eta 0:00:01\r",
      "\u001b[K     |████▍                           | 51 kB 7.5 MB/s eta 0:00:01\r",
      "\u001b[K     |█████▎                          | 61 kB 8.7 MB/s eta 0:00:01\r",
      "\u001b[K     |██████▏                         | 71 kB 7.9 MB/s eta 0:00:01\r",
      "\u001b[K     |███████                         | 81 kB 8.8 MB/s eta 0:00:01\r",
      "\u001b[K     |████████                        | 92 kB 9.4 MB/s eta 0:00:01\r",
      "\u001b[K     |████████▉                       | 102 kB 7.3 MB/s eta 0:00:01\r",
      "\u001b[K     |█████████▊                      | 112 kB 7.3 MB/s eta 0:00:01\r",
      "\u001b[K     |██████████▋                     | 122 kB 7.3 MB/s eta 0:00:01\r",
      "\u001b[K     |███████████▌                    | 133 kB 7.3 MB/s eta 0:00:01\r",
      "\u001b[K     |████████████▍                   | 143 kB 7.3 MB/s eta 0:00:01\r",
      "\u001b[K     |█████████████▎                  | 153 kB 7.3 MB/s eta 0:00:01\r",
      "\u001b[K     |██████████████                  | 163 kB 7.3 MB/s eta 0:00:01\r",
      "\u001b[K     |███████████████                 | 174 kB 7.3 MB/s eta 0:00:01\r",
      "\u001b[K     |███████████████▉                | 184 kB 7.3 MB/s eta 0:00:01\r",
      "\u001b[K     |████████████████▊               | 194 kB 7.3 MB/s eta 0:00:01\r",
      "\u001b[K     |█████████████████▋              | 204 kB 7.3 MB/s eta 0:00:01\r",
      "\u001b[K     |██████████████████▌             | 215 kB 7.3 MB/s eta 0:00:01\r",
      "\u001b[K     |███████████████████▍            | 225 kB 7.3 MB/s eta 0:00:01\r",
      "\u001b[K     |████████████████████▎           | 235 kB 7.3 MB/s eta 0:00:01\r",
      "\u001b[K     |█████████████████████▏          | 245 kB 7.3 MB/s eta 0:00:01\r",
      "\u001b[K     |██████████████████████          | 256 kB 7.3 MB/s eta 0:00:01\r",
      "\u001b[K     |███████████████████████         | 266 kB 7.3 MB/s eta 0:00:01\r",
      "\u001b[K     |███████████████████████▉        | 276 kB 7.3 MB/s eta 0:00:01\r",
      "\u001b[K     |████████████████████████▊       | 286 kB 7.3 MB/s eta 0:00:01\r",
      "\u001b[K     |█████████████████████████▋      | 296 kB 7.3 MB/s eta 0:00:01\r",
      "\u001b[K     |██████████████████████████▌     | 307 kB 7.3 MB/s eta 0:00:01\r",
      "\u001b[K     |███████████████████████████▎    | 317 kB 7.3 MB/s eta 0:00:01\r",
      "\u001b[K     |████████████████████████████▏   | 327 kB 7.3 MB/s eta 0:00:01\r",
      "\u001b[K     |█████████████████████████████   | 337 kB 7.3 MB/s eta 0:00:01\r",
      "\u001b[K     |██████████████████████████████  | 348 kB 7.3 MB/s eta 0:00:01\r",
      "\u001b[K     |██████████████████████████████▉ | 358 kB 7.3 MB/s eta 0:00:01\r",
      "\u001b[K     |███████████████████████████████▊| 368 kB 7.3 MB/s eta 0:00:01\r",
      "\u001b[K     |████████████████████████████████| 371 kB 7.3 MB/s \n",
      "\u001b[?25h  Installing build dependencies ... \u001b[?25l\u001b[?25hdone\n",
      "  Getting requirements to build wheel ... \u001b[?25l\u001b[?25hdone\n",
      "    Preparing wheel metadata ... \u001b[?25l\u001b[?25hdone\n",
      "  Building wheel for shap (PEP 517) ... \u001b[?25l\u001b[?25hdone\n"
     ]
    }
   ],
   "source": [
    "#!pip install shap -q "
   ]
  },
  {
   "cell_type": "markdown",
   "metadata": {
    "id": "8O5fNwW5FUCf"
   },
   "source": [
    "# Exploratory Data Analysis Part 1\n",
    "\n",
    "In this bootcamp we will focus on analysing data set statistics to gain insight into the data. We do this to refrain ourself of making assumptions. This will help you identify errors, detect outliers and help finding important relations among the variables.\n",
    "\n",
    "To do this we will use the diabetes readmission dataset: https://www.hindawi.com/journals/bmri/2014/781670/ \n",
    "\n",
    "*Citation:*\n",
    "Beata Strack, Jonathan P. DeShazo, Chris Gennings, Juan L. Olmo, Sebastian Ventura, Krzysztof J. Cios, John N. Clore, \"Impact of HbA1c Measurement on Hospital Readmission Rates: Analysis of 70,000 Clinical Database Patient Records\", BioMed Research International, vol. 2014, Article ID 781670, 11 pages, 2014. https://doi.org/10.1155/2014/781670"
   ]
  },
  {
   "cell_type": "markdown",
   "metadata": {
    "id": "0j7zautuI5he"
   },
   "source": [
    "First off, let's start by loading the dataset and look at the present features\n"
   ]
  },
  {
   "cell_type": "code",
   "execution_count": null,
   "metadata": {
    "colab": {
     "base_uri": "https://localhost:8080/"
    },
    "id": "j1pes1YUkqfd",
    "outputId": "e2c8b076-d7e7-4687-aa5b-73912200b2c4"
   },
   "outputs": [
    {
     "name": "stdout",
     "output_type": "stream",
     "text": [
      "Downloading...\n",
      "From: https://drive.google.com/uc?id=19poGUSrTmdbEEvottmW1m4_g4XXUVJV-\n",
      "To: /content/Diabetes.csv\n",
      "100% 26.6M/26.6M [00:00<00:00, 27.4MB/s]\n"
     ]
    }
   ],
   "source": [
    "#19poGUSrTmdbEEvottmW1m4_g4XXUVJV-\n",
    "#1F02asXEhj18p8PAgdXIKhdID0OK4B-0w\n",
    "#1Bp3kLLy-RmloCOFmJbgBILAlGDLb_-3H\n",
    "#1PmJZcrMsG7vsp2QT5Cjbzw9mXIp4LS7c\n",
    "\n",
    "# if you run in to trouble with this command, take another one of the links above and try again\n",
    "\n",
    "!gdown --id 19poGUSrTmdbEEvottmW1m4_g4XXUVJV-"
   ]
  },
  {
   "cell_type": "code",
   "execution_count": null,
   "metadata": {
    "colab": {
     "base_uri": "https://localhost:8080/",
     "height": 309
    },
    "id": "zLBW8Xd04zaG",
    "outputId": "72bec205-3ef4-472b-9262-2534e3c85d31"
   },
   "outputs": [
    {
     "data": {
      "text/html": [
       "<div>\n",
       "<style scoped>\n",
       "    .dataframe tbody tr th:only-of-type {\n",
       "        vertical-align: middle;\n",
       "    }\n",
       "\n",
       "    .dataframe tbody tr th {\n",
       "        vertical-align: top;\n",
       "    }\n",
       "\n",
       "    .dataframe thead th {\n",
       "        text-align: right;\n",
       "    }\n",
       "</style>\n",
       "<table border=\"1\" class=\"dataframe\">\n",
       "  <thead>\n",
       "    <tr style=\"text-align: right;\">\n",
       "      <th></th>\n",
       "      <th>encounter_id</th>\n",
       "      <th>patient_nbr</th>\n",
       "      <th>race</th>\n",
       "      <th>gender</th>\n",
       "      <th>age</th>\n",
       "      <th>weight</th>\n",
       "      <th>admission_type_id</th>\n",
       "      <th>discharge_disposition_id</th>\n",
       "      <th>admission_source_id</th>\n",
       "      <th>time_in_hospital</th>\n",
       "      <th>payer_code</th>\n",
       "      <th>medical_specialty</th>\n",
       "      <th>num_lab_procedures</th>\n",
       "      <th>num_procedures</th>\n",
       "      <th>num_medications</th>\n",
       "      <th>number_outpatient</th>\n",
       "      <th>number_emergency</th>\n",
       "      <th>number_inpatient</th>\n",
       "      <th>diag_1</th>\n",
       "      <th>diag_2</th>\n",
       "      <th>diag_3</th>\n",
       "      <th>number_diagnoses</th>\n",
       "      <th>max_glu_serum</th>\n",
       "      <th>A1Cresult</th>\n",
       "      <th>metformin</th>\n",
       "      <th>repaglinide</th>\n",
       "      <th>nateglinide</th>\n",
       "      <th>chlorpropamide</th>\n",
       "      <th>glimepiride</th>\n",
       "      <th>acetohexamide</th>\n",
       "      <th>glipizide</th>\n",
       "      <th>glyburide</th>\n",
       "      <th>tolbutamide</th>\n",
       "      <th>pioglitazone</th>\n",
       "      <th>rosiglitazone</th>\n",
       "      <th>acarbose</th>\n",
       "      <th>miglitol</th>\n",
       "      <th>troglitazone</th>\n",
       "      <th>tolazamide</th>\n",
       "      <th>examide</th>\n",
       "      <th>citoglipton</th>\n",
       "      <th>insulin</th>\n",
       "      <th>glyburide.metformin</th>\n",
       "      <th>glipizide.metformin</th>\n",
       "      <th>glimepiride.pioglitazone</th>\n",
       "      <th>metformin.rosiglitazone</th>\n",
       "      <th>metformin.pioglitazone</th>\n",
       "      <th>change</th>\n",
       "      <th>diabetesMed</th>\n",
       "      <th>readmitted</th>\n",
       "    </tr>\n",
       "  </thead>\n",
       "  <tbody>\n",
       "    <tr>\n",
       "      <th>0</th>\n",
       "      <td>2278392</td>\n",
       "      <td>8222157</td>\n",
       "      <td>'Caucasian'</td>\n",
       "      <td>'Female'</td>\n",
       "      <td>'[0-10)'</td>\n",
       "      <td>'?'</td>\n",
       "      <td>6</td>\n",
       "      <td>25</td>\n",
       "      <td>1</td>\n",
       "      <td>1</td>\n",
       "      <td>'?'</td>\n",
       "      <td>'Pediatrics-Endocrinology'</td>\n",
       "      <td>41</td>\n",
       "      <td>0</td>\n",
       "      <td>1</td>\n",
       "      <td>0</td>\n",
       "      <td>0</td>\n",
       "      <td>0</td>\n",
       "      <td>'250.83'</td>\n",
       "      <td>'?'</td>\n",
       "      <td>'?'</td>\n",
       "      <td>1</td>\n",
       "      <td>'None'</td>\n",
       "      <td>'None'</td>\n",
       "      <td>'No'</td>\n",
       "      <td>'No'</td>\n",
       "      <td>'No'</td>\n",
       "      <td>'No'</td>\n",
       "      <td>'No'</td>\n",
       "      <td>'No'</td>\n",
       "      <td>'No'</td>\n",
       "      <td>'No'</td>\n",
       "      <td>'No'</td>\n",
       "      <td>'No'</td>\n",
       "      <td>'No'</td>\n",
       "      <td>'No'</td>\n",
       "      <td>'No'</td>\n",
       "      <td>'No'</td>\n",
       "      <td>'No'</td>\n",
       "      <td>'No'</td>\n",
       "      <td>'No'</td>\n",
       "      <td>'No'</td>\n",
       "      <td>'No'</td>\n",
       "      <td>'No'</td>\n",
       "      <td>'No'</td>\n",
       "      <td>'No'</td>\n",
       "      <td>'No'</td>\n",
       "      <td>'No'</td>\n",
       "      <td>'No'</td>\n",
       "      <td>'NO'</td>\n",
       "    </tr>\n",
       "    <tr>\n",
       "      <th>1</th>\n",
       "      <td>149190</td>\n",
       "      <td>55629189</td>\n",
       "      <td>'Caucasian'</td>\n",
       "      <td>'Female'</td>\n",
       "      <td>'[10-20)'</td>\n",
       "      <td>'?'</td>\n",
       "      <td>1</td>\n",
       "      <td>1</td>\n",
       "      <td>7</td>\n",
       "      <td>3</td>\n",
       "      <td>'?'</td>\n",
       "      <td>'?'</td>\n",
       "      <td>59</td>\n",
       "      <td>0</td>\n",
       "      <td>18</td>\n",
       "      <td>0</td>\n",
       "      <td>0</td>\n",
       "      <td>0</td>\n",
       "      <td>'276'</td>\n",
       "      <td>'250.01'</td>\n",
       "      <td>'255'</td>\n",
       "      <td>9</td>\n",
       "      <td>'None'</td>\n",
       "      <td>'None'</td>\n",
       "      <td>'No'</td>\n",
       "      <td>'No'</td>\n",
       "      <td>'No'</td>\n",
       "      <td>'No'</td>\n",
       "      <td>'No'</td>\n",
       "      <td>'No'</td>\n",
       "      <td>'No'</td>\n",
       "      <td>'No'</td>\n",
       "      <td>'No'</td>\n",
       "      <td>'No'</td>\n",
       "      <td>'No'</td>\n",
       "      <td>'No'</td>\n",
       "      <td>'No'</td>\n",
       "      <td>'No'</td>\n",
       "      <td>'No'</td>\n",
       "      <td>'No'</td>\n",
       "      <td>'No'</td>\n",
       "      <td>'Up'</td>\n",
       "      <td>'No'</td>\n",
       "      <td>'No'</td>\n",
       "      <td>'No'</td>\n",
       "      <td>'No'</td>\n",
       "      <td>'No'</td>\n",
       "      <td>'Ch'</td>\n",
       "      <td>'Yes'</td>\n",
       "      <td>'&gt;30'</td>\n",
       "    </tr>\n",
       "    <tr>\n",
       "      <th>2</th>\n",
       "      <td>64410</td>\n",
       "      <td>86047875</td>\n",
       "      <td>'AfricanAmerican'</td>\n",
       "      <td>'Female'</td>\n",
       "      <td>'[20-30)'</td>\n",
       "      <td>'?'</td>\n",
       "      <td>1</td>\n",
       "      <td>1</td>\n",
       "      <td>7</td>\n",
       "      <td>2</td>\n",
       "      <td>'?'</td>\n",
       "      <td>'?'</td>\n",
       "      <td>11</td>\n",
       "      <td>5</td>\n",
       "      <td>13</td>\n",
       "      <td>2</td>\n",
       "      <td>0</td>\n",
       "      <td>1</td>\n",
       "      <td>'648'</td>\n",
       "      <td>'250'</td>\n",
       "      <td>'V27'</td>\n",
       "      <td>6</td>\n",
       "      <td>'None'</td>\n",
       "      <td>'None'</td>\n",
       "      <td>'No'</td>\n",
       "      <td>'No'</td>\n",
       "      <td>'No'</td>\n",
       "      <td>'No'</td>\n",
       "      <td>'No'</td>\n",
       "      <td>'No'</td>\n",
       "      <td>'Steady'</td>\n",
       "      <td>'No'</td>\n",
       "      <td>'No'</td>\n",
       "      <td>'No'</td>\n",
       "      <td>'No'</td>\n",
       "      <td>'No'</td>\n",
       "      <td>'No'</td>\n",
       "      <td>'No'</td>\n",
       "      <td>'No'</td>\n",
       "      <td>'No'</td>\n",
       "      <td>'No'</td>\n",
       "      <td>'No'</td>\n",
       "      <td>'No'</td>\n",
       "      <td>'No'</td>\n",
       "      <td>'No'</td>\n",
       "      <td>'No'</td>\n",
       "      <td>'No'</td>\n",
       "      <td>'No'</td>\n",
       "      <td>'Yes'</td>\n",
       "      <td>'NO'</td>\n",
       "    </tr>\n",
       "    <tr>\n",
       "      <th>3</th>\n",
       "      <td>500364</td>\n",
       "      <td>82442376</td>\n",
       "      <td>'Caucasian'</td>\n",
       "      <td>'Male'</td>\n",
       "      <td>'[30-40)'</td>\n",
       "      <td>'?'</td>\n",
       "      <td>1</td>\n",
       "      <td>1</td>\n",
       "      <td>7</td>\n",
       "      <td>2</td>\n",
       "      <td>'?'</td>\n",
       "      <td>'?'</td>\n",
       "      <td>44</td>\n",
       "      <td>1</td>\n",
       "      <td>16</td>\n",
       "      <td>0</td>\n",
       "      <td>0</td>\n",
       "      <td>0</td>\n",
       "      <td>'8'</td>\n",
       "      <td>'250.43'</td>\n",
       "      <td>'403'</td>\n",
       "      <td>7</td>\n",
       "      <td>'None'</td>\n",
       "      <td>'None'</td>\n",
       "      <td>'No'</td>\n",
       "      <td>'No'</td>\n",
       "      <td>'No'</td>\n",
       "      <td>'No'</td>\n",
       "      <td>'No'</td>\n",
       "      <td>'No'</td>\n",
       "      <td>'No'</td>\n",
       "      <td>'No'</td>\n",
       "      <td>'No'</td>\n",
       "      <td>'No'</td>\n",
       "      <td>'No'</td>\n",
       "      <td>'No'</td>\n",
       "      <td>'No'</td>\n",
       "      <td>'No'</td>\n",
       "      <td>'No'</td>\n",
       "      <td>'No'</td>\n",
       "      <td>'No'</td>\n",
       "      <td>'Up'</td>\n",
       "      <td>'No'</td>\n",
       "      <td>'No'</td>\n",
       "      <td>'No'</td>\n",
       "      <td>'No'</td>\n",
       "      <td>'No'</td>\n",
       "      <td>'Ch'</td>\n",
       "      <td>'Yes'</td>\n",
       "      <td>'NO'</td>\n",
       "    </tr>\n",
       "    <tr>\n",
       "      <th>4</th>\n",
       "      <td>16680</td>\n",
       "      <td>42519267</td>\n",
       "      <td>'Caucasian'</td>\n",
       "      <td>'Male'</td>\n",
       "      <td>'[40-50)'</td>\n",
       "      <td>'?'</td>\n",
       "      <td>1</td>\n",
       "      <td>1</td>\n",
       "      <td>7</td>\n",
       "      <td>1</td>\n",
       "      <td>'?'</td>\n",
       "      <td>'?'</td>\n",
       "      <td>51</td>\n",
       "      <td>0</td>\n",
       "      <td>8</td>\n",
       "      <td>0</td>\n",
       "      <td>0</td>\n",
       "      <td>0</td>\n",
       "      <td>'197'</td>\n",
       "      <td>'157'</td>\n",
       "      <td>'250'</td>\n",
       "      <td>5</td>\n",
       "      <td>'None'</td>\n",
       "      <td>'None'</td>\n",
       "      <td>'No'</td>\n",
       "      <td>'No'</td>\n",
       "      <td>'No'</td>\n",
       "      <td>'No'</td>\n",
       "      <td>'No'</td>\n",
       "      <td>'No'</td>\n",
       "      <td>'Steady'</td>\n",
       "      <td>'No'</td>\n",
       "      <td>'No'</td>\n",
       "      <td>'No'</td>\n",
       "      <td>'No'</td>\n",
       "      <td>'No'</td>\n",
       "      <td>'No'</td>\n",
       "      <td>'No'</td>\n",
       "      <td>'No'</td>\n",
       "      <td>'No'</td>\n",
       "      <td>'No'</td>\n",
       "      <td>'Steady'</td>\n",
       "      <td>'No'</td>\n",
       "      <td>'No'</td>\n",
       "      <td>'No'</td>\n",
       "      <td>'No'</td>\n",
       "      <td>'No'</td>\n",
       "      <td>'Ch'</td>\n",
       "      <td>'Yes'</td>\n",
       "      <td>'NO'</td>\n",
       "    </tr>\n",
       "  </tbody>\n",
       "</table>\n",
       "</div>"
      ],
      "text/plain": [
       "   encounter_id  patient_nbr               race  ... change diabetesMed readmitted\n",
       "0       2278392      8222157        'Caucasian'  ...   'No'        'No'       'NO'\n",
       "1        149190     55629189        'Caucasian'  ...   'Ch'       'Yes'      '>30'\n",
       "2         64410     86047875  'AfricanAmerican'  ...   'No'       'Yes'       'NO'\n",
       "3        500364     82442376        'Caucasian'  ...   'Ch'       'Yes'       'NO'\n",
       "4         16680     42519267        'Caucasian'  ...   'Ch'       'Yes'       'NO'\n",
       "\n",
       "[5 rows x 50 columns]"
      ]
     },
     "execution_count": 5,
     "metadata": {},
     "output_type": "execute_result"
    }
   ],
   "source": [
    "import pandas as pd\n",
    "df = pd.read_csv('/content/Diabetes.csv')\n",
    "df.head()"
   ]
  },
  {
   "cell_type": "markdown",
   "metadata": {
    "id": "IQMuvoO8JRGX"
   },
   "source": [
    "### Excersize 1\n",
    "A) Check all variables and look up any that you might be unfamilliar with.\n",
    "\n",
    "B) Use .info() and ProfilingReport to study the data\n",
    "\n",
    "C) Find at least 3 variables that are irrelevant and drop them from the dataset"
   ]
  },
  {
   "cell_type": "code",
   "execution_count": null,
   "metadata": {
    "colab": {
     "base_uri": "https://localhost:8080/",
     "height": 491,
     "referenced_widgets": [
      "9323a66e44094c11af84087b74707821",
      "9fc9cf749e1341d28f2a45ab94f8738e",
      "b4c2851a82044959afacbbedffa03e34",
      "1e8936b1240b4f729fa73e3c42b954ff",
      "1b7dc227a8c340819d511e19173b9080",
      "4fec57ebbc7e480e88a30d0ef441693b",
      "73d0c53edc694e609d07f7b538ae6d16",
      "96b9284c985f42789fc312a4f83b816b",
      "59f6703f976345e8baaa53b0024066f2",
      "02a77b0fce9648e1b7b14d6609b39f06",
      "fcb47255d7514c47b05ae7998748012a"
     ]
    },
    "id": "u_ZJBpdi5A6l",
    "outputId": "350ebf59-8cac-492e-a686-f66840d4be68"
   },
   "outputs": [
    {
     "data": {
      "application/vnd.jupyter.widget-view+json": {
       "model_id": "9323a66e44094c11af84087b74707821",
       "version_major": 2,
       "version_minor": 0
      },
      "text/plain": [
       "Summarize dataset:   0%|          | 0/64 [00:00<?, ?it/s]"
      ]
     },
     "metadata": {},
     "output_type": "display_data"
    },
    {
     "ename": "KeyboardInterrupt",
     "evalue": "ignored",
     "output_type": "error",
     "traceback": [
      "\u001b[0;31m---------------------------------------------------------------------------\u001b[0m",
      "\u001b[0;31mIndexError\u001b[0m                                Traceback (most recent call last)",
      "\u001b[0;32m/usr/lib/python3.7/multiprocessing/pool.py\u001b[0m in \u001b[0;36mnext\u001b[0;34m(self, timeout)\u001b[0m\n\u001b[1;32m    732\u001b[0m             \u001b[0;32mtry\u001b[0m\u001b[0;34m:\u001b[0m\u001b[0;34m\u001b[0m\u001b[0;34m\u001b[0m\u001b[0m\n\u001b[0;32m--> 733\u001b[0;31m                 \u001b[0mitem\u001b[0m \u001b[0;34m=\u001b[0m \u001b[0mself\u001b[0m\u001b[0;34m.\u001b[0m\u001b[0m_items\u001b[0m\u001b[0;34m.\u001b[0m\u001b[0mpopleft\u001b[0m\u001b[0;34m(\u001b[0m\u001b[0;34m)\u001b[0m\u001b[0;34m\u001b[0m\u001b[0;34m\u001b[0m\u001b[0m\n\u001b[0m\u001b[1;32m    734\u001b[0m             \u001b[0;32mexcept\u001b[0m \u001b[0mIndexError\u001b[0m\u001b[0;34m:\u001b[0m\u001b[0;34m\u001b[0m\u001b[0;34m\u001b[0m\u001b[0m\n",
      "\u001b[0;31mIndexError\u001b[0m: pop from an empty deque",
      "\nDuring handling of the above exception, another exception occurred:\n",
      "\u001b[0;31mKeyboardInterrupt\u001b[0m                         Traceback (most recent call last)",
      "\u001b[0;32m<ipython-input-6-ec20e5943bdb>\u001b[0m in \u001b[0;36m<module>\u001b[0;34m()\u001b[0m\n\u001b[1;32m      1\u001b[0m \u001b[0;32mfrom\u001b[0m \u001b[0mpandas_profiling\u001b[0m \u001b[0;32mimport\u001b[0m \u001b[0mProfileReport\u001b[0m\u001b[0;34m\u001b[0m\u001b[0;34m\u001b[0m\u001b[0m\n\u001b[0;32m----> 2\u001b[0;31m \u001b[0mProfileReport\u001b[0m\u001b[0;34m(\u001b[0m\u001b[0mdf\u001b[0m\u001b[0;34m,\u001b[0m \u001b[0mexplorative\u001b[0m\u001b[0;34m=\u001b[0m\u001b[0;32mTrue\u001b[0m\u001b[0;34m)\u001b[0m\u001b[0;34m\u001b[0m\u001b[0;34m\u001b[0m\u001b[0m\n\u001b[0m",
      "\u001b[0;32m/usr/local/lib/python3.7/dist-packages/IPython/core/displayhook.py\u001b[0m in \u001b[0;36m__call__\u001b[0;34m(self, result)\u001b[0m\n\u001b[1;32m    244\u001b[0m             \u001b[0mself\u001b[0m\u001b[0;34m.\u001b[0m\u001b[0mstart_displayhook\u001b[0m\u001b[0;34m(\u001b[0m\u001b[0;34m)\u001b[0m\u001b[0;34m\u001b[0m\u001b[0;34m\u001b[0m\u001b[0m\n\u001b[1;32m    245\u001b[0m             \u001b[0mself\u001b[0m\u001b[0;34m.\u001b[0m\u001b[0mwrite_output_prompt\u001b[0m\u001b[0;34m(\u001b[0m\u001b[0;34m)\u001b[0m\u001b[0;34m\u001b[0m\u001b[0;34m\u001b[0m\u001b[0m\n\u001b[0;32m--> 246\u001b[0;31m             \u001b[0mformat_dict\u001b[0m\u001b[0;34m,\u001b[0m \u001b[0mmd_dict\u001b[0m \u001b[0;34m=\u001b[0m \u001b[0mself\u001b[0m\u001b[0;34m.\u001b[0m\u001b[0mcompute_format_data\u001b[0m\u001b[0;34m(\u001b[0m\u001b[0mresult\u001b[0m\u001b[0;34m)\u001b[0m\u001b[0;34m\u001b[0m\u001b[0;34m\u001b[0m\u001b[0m\n\u001b[0m\u001b[1;32m    247\u001b[0m             \u001b[0mself\u001b[0m\u001b[0;34m.\u001b[0m\u001b[0mupdate_user_ns\u001b[0m\u001b[0;34m(\u001b[0m\u001b[0mresult\u001b[0m\u001b[0;34m)\u001b[0m\u001b[0;34m\u001b[0m\u001b[0;34m\u001b[0m\u001b[0m\n\u001b[1;32m    248\u001b[0m             \u001b[0mself\u001b[0m\u001b[0;34m.\u001b[0m\u001b[0mfill_exec_result\u001b[0m\u001b[0;34m(\u001b[0m\u001b[0mresult\u001b[0m\u001b[0;34m)\u001b[0m\u001b[0;34m\u001b[0m\u001b[0;34m\u001b[0m\u001b[0m\n",
      "\u001b[0;32m/usr/local/lib/python3.7/dist-packages/IPython/core/displayhook.py\u001b[0m in \u001b[0;36mcompute_format_data\u001b[0;34m(self, result)\u001b[0m\n\u001b[1;32m    148\u001b[0m \u001b[0;34m\u001b[0m\u001b[0m\n\u001b[1;32m    149\u001b[0m         \"\"\"\n\u001b[0;32m--> 150\u001b[0;31m         \u001b[0;32mreturn\u001b[0m \u001b[0mself\u001b[0m\u001b[0;34m.\u001b[0m\u001b[0mshell\u001b[0m\u001b[0;34m.\u001b[0m\u001b[0mdisplay_formatter\u001b[0m\u001b[0;34m.\u001b[0m\u001b[0mformat\u001b[0m\u001b[0;34m(\u001b[0m\u001b[0mresult\u001b[0m\u001b[0;34m)\u001b[0m\u001b[0;34m\u001b[0m\u001b[0;34m\u001b[0m\u001b[0m\n\u001b[0m\u001b[1;32m    151\u001b[0m \u001b[0;34m\u001b[0m\u001b[0m\n\u001b[1;32m    152\u001b[0m     \u001b[0;31m# This can be set to True by the write_output_prompt method in a subclass\u001b[0m\u001b[0;34m\u001b[0m\u001b[0;34m\u001b[0m\u001b[0;34m\u001b[0m\u001b[0m\n",
      "\u001b[0;32m/usr/local/lib/python3.7/dist-packages/IPython/core/formatters.py\u001b[0m in \u001b[0;36mformat\u001b[0;34m(self, obj, include, exclude)\u001b[0m\n\u001b[1;32m    171\u001b[0m             \u001b[0mmd\u001b[0m \u001b[0;34m=\u001b[0m \u001b[0;32mNone\u001b[0m\u001b[0;34m\u001b[0m\u001b[0;34m\u001b[0m\u001b[0m\n\u001b[1;32m    172\u001b[0m             \u001b[0;32mtry\u001b[0m\u001b[0;34m:\u001b[0m\u001b[0;34m\u001b[0m\u001b[0;34m\u001b[0m\u001b[0m\n\u001b[0;32m--> 173\u001b[0;31m                 \u001b[0mdata\u001b[0m \u001b[0;34m=\u001b[0m \u001b[0mformatter\u001b[0m\u001b[0;34m(\u001b[0m\u001b[0mobj\u001b[0m\u001b[0;34m)\u001b[0m\u001b[0;34m\u001b[0m\u001b[0;34m\u001b[0m\u001b[0m\n\u001b[0m\u001b[1;32m    174\u001b[0m             \u001b[0;32mexcept\u001b[0m\u001b[0;34m:\u001b[0m\u001b[0;34m\u001b[0m\u001b[0;34m\u001b[0m\u001b[0m\n\u001b[1;32m    175\u001b[0m                 \u001b[0;31m# FIXME: log the exception\u001b[0m\u001b[0;34m\u001b[0m\u001b[0;34m\u001b[0m\u001b[0;34m\u001b[0m\u001b[0m\n",
      "\u001b[0;32m<decorator-gen-2>\u001b[0m in \u001b[0;36m__call__\u001b[0;34m(self, obj)\u001b[0m\n",
      "\u001b[0;32m/usr/local/lib/python3.7/dist-packages/IPython/core/formatters.py\u001b[0m in \u001b[0;36mcatch_format_error\u001b[0;34m(method, self, *args, **kwargs)\u001b[0m\n\u001b[1;32m    215\u001b[0m     \u001b[0;34m\"\"\"show traceback on failed format call\"\"\"\u001b[0m\u001b[0;34m\u001b[0m\u001b[0;34m\u001b[0m\u001b[0m\n\u001b[1;32m    216\u001b[0m     \u001b[0;32mtry\u001b[0m\u001b[0;34m:\u001b[0m\u001b[0;34m\u001b[0m\u001b[0;34m\u001b[0m\u001b[0m\n\u001b[0;32m--> 217\u001b[0;31m         \u001b[0mr\u001b[0m \u001b[0;34m=\u001b[0m \u001b[0mmethod\u001b[0m\u001b[0;34m(\u001b[0m\u001b[0mself\u001b[0m\u001b[0;34m,\u001b[0m \u001b[0;34m*\u001b[0m\u001b[0margs\u001b[0m\u001b[0;34m,\u001b[0m \u001b[0;34m**\u001b[0m\u001b[0mkwargs\u001b[0m\u001b[0;34m)\u001b[0m\u001b[0;34m\u001b[0m\u001b[0;34m\u001b[0m\u001b[0m\n\u001b[0m\u001b[1;32m    218\u001b[0m     \u001b[0;32mexcept\u001b[0m \u001b[0mNotImplementedError\u001b[0m\u001b[0;34m:\u001b[0m\u001b[0;34m\u001b[0m\u001b[0;34m\u001b[0m\u001b[0m\n\u001b[1;32m    219\u001b[0m         \u001b[0;31m# don't warn on NotImplementedErrors\u001b[0m\u001b[0;34m\u001b[0m\u001b[0;34m\u001b[0m\u001b[0;34m\u001b[0m\u001b[0m\n",
      "\u001b[0;32m/usr/local/lib/python3.7/dist-packages/IPython/core/formatters.py\u001b[0m in \u001b[0;36m__call__\u001b[0;34m(self, obj)\u001b[0m\n\u001b[1;32m    336\u001b[0m             \u001b[0mmethod\u001b[0m \u001b[0;34m=\u001b[0m \u001b[0mget_real_method\u001b[0m\u001b[0;34m(\u001b[0m\u001b[0mobj\u001b[0m\u001b[0;34m,\u001b[0m \u001b[0mself\u001b[0m\u001b[0;34m.\u001b[0m\u001b[0mprint_method\u001b[0m\u001b[0;34m)\u001b[0m\u001b[0;34m\u001b[0m\u001b[0;34m\u001b[0m\u001b[0m\n\u001b[1;32m    337\u001b[0m             \u001b[0;32mif\u001b[0m \u001b[0mmethod\u001b[0m \u001b[0;32mis\u001b[0m \u001b[0;32mnot\u001b[0m \u001b[0;32mNone\u001b[0m\u001b[0;34m:\u001b[0m\u001b[0;34m\u001b[0m\u001b[0;34m\u001b[0m\u001b[0m\n\u001b[0;32m--> 338\u001b[0;31m                 \u001b[0;32mreturn\u001b[0m \u001b[0mmethod\u001b[0m\u001b[0;34m(\u001b[0m\u001b[0;34m)\u001b[0m\u001b[0;34m\u001b[0m\u001b[0;34m\u001b[0m\u001b[0m\n\u001b[0m\u001b[1;32m    339\u001b[0m             \u001b[0;32mreturn\u001b[0m \u001b[0;32mNone\u001b[0m\u001b[0;34m\u001b[0m\u001b[0;34m\u001b[0m\u001b[0m\n\u001b[1;32m    340\u001b[0m         \u001b[0;32melse\u001b[0m\u001b[0;34m:\u001b[0m\u001b[0;34m\u001b[0m\u001b[0;34m\u001b[0m\u001b[0m\n",
      "\u001b[0;32m/usr/local/lib/python3.7/dist-packages/pandas_profiling/profile_report.py\u001b[0m in \u001b[0;36m_repr_html_\u001b[0;34m(self)\u001b[0m\n\u001b[1;32m    407\u001b[0m     \u001b[0;32mdef\u001b[0m \u001b[0m_repr_html_\u001b[0m\u001b[0;34m(\u001b[0m\u001b[0mself\u001b[0m\u001b[0;34m)\u001b[0m\u001b[0;34m:\u001b[0m\u001b[0;34m\u001b[0m\u001b[0;34m\u001b[0m\u001b[0m\n\u001b[1;32m    408\u001b[0m         \u001b[0;34m\"\"\"The ipython notebook widgets user interface gets called by the jupyter notebook.\"\"\"\u001b[0m\u001b[0;34m\u001b[0m\u001b[0;34m\u001b[0m\u001b[0m\n\u001b[0;32m--> 409\u001b[0;31m         \u001b[0mself\u001b[0m\u001b[0;34m.\u001b[0m\u001b[0mto_notebook_iframe\u001b[0m\u001b[0;34m(\u001b[0m\u001b[0;34m)\u001b[0m\u001b[0;34m\u001b[0m\u001b[0;34m\u001b[0m\u001b[0m\n\u001b[0m\u001b[1;32m    410\u001b[0m \u001b[0;34m\u001b[0m\u001b[0m\n\u001b[1;32m    411\u001b[0m     \u001b[0;32mdef\u001b[0m \u001b[0m__repr__\u001b[0m\u001b[0;34m(\u001b[0m\u001b[0mself\u001b[0m\u001b[0;34m)\u001b[0m\u001b[0;34m:\u001b[0m\u001b[0;34m\u001b[0m\u001b[0;34m\u001b[0m\u001b[0m\n",
      "\u001b[0;32m/usr/local/lib/python3.7/dist-packages/pandas_profiling/profile_report.py\u001b[0m in \u001b[0;36mto_notebook_iframe\u001b[0;34m(self)\u001b[0m\n\u001b[1;32m    387\u001b[0m         \u001b[0;32mwith\u001b[0m \u001b[0mwarnings\u001b[0m\u001b[0;34m.\u001b[0m\u001b[0mcatch_warnings\u001b[0m\u001b[0;34m(\u001b[0m\u001b[0;34m)\u001b[0m\u001b[0;34m:\u001b[0m\u001b[0;34m\u001b[0m\u001b[0;34m\u001b[0m\u001b[0m\n\u001b[1;32m    388\u001b[0m             \u001b[0mwarnings\u001b[0m\u001b[0;34m.\u001b[0m\u001b[0msimplefilter\u001b[0m\u001b[0;34m(\u001b[0m\u001b[0;34m\"ignore\"\u001b[0m\u001b[0;34m)\u001b[0m\u001b[0;34m\u001b[0m\u001b[0;34m\u001b[0m\u001b[0m\n\u001b[0;32m--> 389\u001b[0;31m             \u001b[0mdisplay\u001b[0m\u001b[0;34m(\u001b[0m\u001b[0mget_notebook_iframe\u001b[0m\u001b[0;34m(\u001b[0m\u001b[0mself\u001b[0m\u001b[0;34m)\u001b[0m\u001b[0;34m)\u001b[0m\u001b[0;34m\u001b[0m\u001b[0;34m\u001b[0m\u001b[0m\n\u001b[0m\u001b[1;32m    390\u001b[0m \u001b[0;34m\u001b[0m\u001b[0m\n\u001b[1;32m    391\u001b[0m     \u001b[0;32mdef\u001b[0m \u001b[0mto_widgets\u001b[0m\u001b[0;34m(\u001b[0m\u001b[0mself\u001b[0m\u001b[0;34m)\u001b[0m\u001b[0;34m:\u001b[0m\u001b[0;34m\u001b[0m\u001b[0;34m\u001b[0m\u001b[0m\n",
      "\u001b[0;32m/usr/local/lib/python3.7/dist-packages/pandas_profiling/report/presentation/flavours/widget/notebook.py\u001b[0m in \u001b[0;36mget_notebook_iframe\u001b[0;34m(profile)\u001b[0m\n\u001b[1;32m     63\u001b[0m         \u001b[0moutput\u001b[0m \u001b[0;34m=\u001b[0m \u001b[0mget_notebook_iframe_src\u001b[0m\u001b[0;34m(\u001b[0m\u001b[0mprofile\u001b[0m\u001b[0;34m)\u001b[0m\u001b[0;34m\u001b[0m\u001b[0;34m\u001b[0m\u001b[0m\n\u001b[1;32m     64\u001b[0m     \u001b[0;32melif\u001b[0m \u001b[0mattribute\u001b[0m \u001b[0;34m==\u001b[0m \u001b[0;34m\"srcdoc\"\u001b[0m\u001b[0;34m:\u001b[0m\u001b[0;34m\u001b[0m\u001b[0;34m\u001b[0m\u001b[0m\n\u001b[0;32m---> 65\u001b[0;31m         \u001b[0moutput\u001b[0m \u001b[0;34m=\u001b[0m \u001b[0mget_notebook_iframe_srcdoc\u001b[0m\u001b[0;34m(\u001b[0m\u001b[0mprofile\u001b[0m\u001b[0;34m)\u001b[0m\u001b[0;34m\u001b[0m\u001b[0;34m\u001b[0m\u001b[0m\n\u001b[0m\u001b[1;32m     66\u001b[0m     \u001b[0;32melse\u001b[0m\u001b[0;34m:\u001b[0m\u001b[0;34m\u001b[0m\u001b[0;34m\u001b[0m\u001b[0m\n\u001b[1;32m     67\u001b[0m         raise ValueError(\n",
      "\u001b[0;32m/usr/local/lib/python3.7/dist-packages/pandas_profiling/report/presentation/flavours/widget/notebook.py\u001b[0m in \u001b[0;36mget_notebook_iframe_srcdoc\u001b[0;34m(profile)\u001b[0m\n\u001b[1;32m     21\u001b[0m     \u001b[0mwidth\u001b[0m \u001b[0;34m=\u001b[0m \u001b[0mconfig\u001b[0m\u001b[0;34m[\u001b[0m\u001b[0;34m\"notebook\"\u001b[0m\u001b[0;34m]\u001b[0m\u001b[0;34m[\u001b[0m\u001b[0;34m\"iframe\"\u001b[0m\u001b[0;34m]\u001b[0m\u001b[0;34m[\u001b[0m\u001b[0;34m\"width\"\u001b[0m\u001b[0;34m]\u001b[0m\u001b[0;34m.\u001b[0m\u001b[0mget\u001b[0m\u001b[0;34m(\u001b[0m\u001b[0mstr\u001b[0m\u001b[0;34m)\u001b[0m\u001b[0;34m\u001b[0m\u001b[0;34m\u001b[0m\u001b[0m\n\u001b[1;32m     22\u001b[0m     \u001b[0mheight\u001b[0m \u001b[0;34m=\u001b[0m \u001b[0mconfig\u001b[0m\u001b[0;34m[\u001b[0m\u001b[0;34m\"notebook\"\u001b[0m\u001b[0;34m]\u001b[0m\u001b[0;34m[\u001b[0m\u001b[0;34m\"iframe\"\u001b[0m\u001b[0;34m]\u001b[0m\u001b[0;34m[\u001b[0m\u001b[0;34m\"height\"\u001b[0m\u001b[0;34m]\u001b[0m\u001b[0;34m.\u001b[0m\u001b[0mget\u001b[0m\u001b[0;34m(\u001b[0m\u001b[0mstr\u001b[0m\u001b[0;34m)\u001b[0m\u001b[0;34m\u001b[0m\u001b[0;34m\u001b[0m\u001b[0m\n\u001b[0;32m---> 23\u001b[0;31m     \u001b[0msrc\u001b[0m \u001b[0;34m=\u001b[0m \u001b[0mhtml\u001b[0m\u001b[0;34m.\u001b[0m\u001b[0mescape\u001b[0m\u001b[0;34m(\u001b[0m\u001b[0mprofile\u001b[0m\u001b[0;34m.\u001b[0m\u001b[0mto_html\u001b[0m\u001b[0;34m(\u001b[0m\u001b[0;34m)\u001b[0m\u001b[0;34m)\u001b[0m\u001b[0;34m\u001b[0m\u001b[0;34m\u001b[0m\u001b[0m\n\u001b[0m\u001b[1;32m     24\u001b[0m \u001b[0;34m\u001b[0m\u001b[0m\n\u001b[1;32m     25\u001b[0m     \u001b[0miframe\u001b[0m \u001b[0;34m=\u001b[0m \u001b[0;34mf'<iframe width=\"{width}\" height=\"{height}\" srcdoc=\"{src}\" frameborder=\"0\" allowfullscreen></iframe>'\u001b[0m\u001b[0;34m\u001b[0m\u001b[0;34m\u001b[0m\u001b[0m\n",
      "\u001b[0;32m/usr/local/lib/python3.7/dist-packages/pandas_profiling/profile_report.py\u001b[0m in \u001b[0;36mto_html\u001b[0;34m(self)\u001b[0m\n\u001b[1;32m    357\u001b[0m \u001b[0;34m\u001b[0m\u001b[0m\n\u001b[1;32m    358\u001b[0m         \"\"\"\n\u001b[0;32m--> 359\u001b[0;31m         \u001b[0;32mreturn\u001b[0m \u001b[0mself\u001b[0m\u001b[0;34m.\u001b[0m\u001b[0mhtml\u001b[0m\u001b[0;34m\u001b[0m\u001b[0;34m\u001b[0m\u001b[0m\n\u001b[0m\u001b[1;32m    360\u001b[0m \u001b[0;34m\u001b[0m\u001b[0m\n\u001b[1;32m    361\u001b[0m     \u001b[0;32mdef\u001b[0m \u001b[0mto_json\u001b[0m\u001b[0;34m(\u001b[0m\u001b[0mself\u001b[0m\u001b[0;34m)\u001b[0m \u001b[0;34m->\u001b[0m \u001b[0mstr\u001b[0m\u001b[0;34m:\u001b[0m\u001b[0;34m\u001b[0m\u001b[0;34m\u001b[0m\u001b[0m\n",
      "\u001b[0;32m/usr/local/lib/python3.7/dist-packages/pandas_profiling/profile_report.py\u001b[0m in \u001b[0;36mhtml\u001b[0;34m(self)\u001b[0m\n\u001b[1;32m    177\u001b[0m     \u001b[0;32mdef\u001b[0m \u001b[0mhtml\u001b[0m\u001b[0;34m(\u001b[0m\u001b[0mself\u001b[0m\u001b[0;34m)\u001b[0m\u001b[0;34m:\u001b[0m\u001b[0;34m\u001b[0m\u001b[0;34m\u001b[0m\u001b[0m\n\u001b[1;32m    178\u001b[0m         \u001b[0;32mif\u001b[0m \u001b[0mself\u001b[0m\u001b[0;34m.\u001b[0m\u001b[0m_html\u001b[0m \u001b[0;32mis\u001b[0m \u001b[0;32mNone\u001b[0m\u001b[0;34m:\u001b[0m\u001b[0;34m\u001b[0m\u001b[0;34m\u001b[0m\u001b[0m\n\u001b[0;32m--> 179\u001b[0;31m             \u001b[0mself\u001b[0m\u001b[0;34m.\u001b[0m\u001b[0m_html\u001b[0m \u001b[0;34m=\u001b[0m \u001b[0mself\u001b[0m\u001b[0;34m.\u001b[0m\u001b[0m_render_html\u001b[0m\u001b[0;34m(\u001b[0m\u001b[0;34m)\u001b[0m\u001b[0;34m\u001b[0m\u001b[0;34m\u001b[0m\u001b[0m\n\u001b[0m\u001b[1;32m    180\u001b[0m         \u001b[0;32mreturn\u001b[0m \u001b[0mself\u001b[0m\u001b[0;34m.\u001b[0m\u001b[0m_html\u001b[0m\u001b[0;34m\u001b[0m\u001b[0;34m\u001b[0m\u001b[0m\n\u001b[1;32m    181\u001b[0m \u001b[0;34m\u001b[0m\u001b[0m\n",
      "\u001b[0;32m/usr/local/lib/python3.7/dist-packages/pandas_profiling/profile_report.py\u001b[0m in \u001b[0;36m_render_html\u001b[0;34m(self)\u001b[0m\n\u001b[1;32m    284\u001b[0m         \u001b[0;32mfrom\u001b[0m \u001b[0mpandas_profiling\u001b[0m\u001b[0;34m.\u001b[0m\u001b[0mreport\u001b[0m\u001b[0;34m.\u001b[0m\u001b[0mpresentation\u001b[0m\u001b[0;34m.\u001b[0m\u001b[0mflavours\u001b[0m \u001b[0;32mimport\u001b[0m \u001b[0mHTMLReport\u001b[0m\u001b[0;34m\u001b[0m\u001b[0;34m\u001b[0m\u001b[0m\n\u001b[1;32m    285\u001b[0m \u001b[0;34m\u001b[0m\u001b[0m\n\u001b[0;32m--> 286\u001b[0;31m         \u001b[0mreport\u001b[0m \u001b[0;34m=\u001b[0m \u001b[0mself\u001b[0m\u001b[0;34m.\u001b[0m\u001b[0mreport\u001b[0m\u001b[0;34m\u001b[0m\u001b[0;34m\u001b[0m\u001b[0m\n\u001b[0m\u001b[1;32m    287\u001b[0m \u001b[0;34m\u001b[0m\u001b[0m\n\u001b[1;32m    288\u001b[0m         \u001b[0mdisable_progress_bar\u001b[0m \u001b[0;34m=\u001b[0m \u001b[0;32mnot\u001b[0m \u001b[0mconfig\u001b[0m\u001b[0;34m[\u001b[0m\u001b[0;34m\"progress_bar\"\u001b[0m\u001b[0;34m]\u001b[0m\u001b[0;34m.\u001b[0m\u001b[0mget\u001b[0m\u001b[0;34m(\u001b[0m\u001b[0mbool\u001b[0m\u001b[0;34m)\u001b[0m\u001b[0;34m\u001b[0m\u001b[0;34m\u001b[0m\u001b[0m\n",
      "\u001b[0;32m/usr/local/lib/python3.7/dist-packages/pandas_profiling/profile_report.py\u001b[0m in \u001b[0;36mreport\u001b[0;34m(self)\u001b[0m\n\u001b[1;32m    171\u001b[0m     \u001b[0;32mdef\u001b[0m \u001b[0mreport\u001b[0m\u001b[0;34m(\u001b[0m\u001b[0mself\u001b[0m\u001b[0;34m)\u001b[0m\u001b[0;34m:\u001b[0m\u001b[0;34m\u001b[0m\u001b[0;34m\u001b[0m\u001b[0m\n\u001b[1;32m    172\u001b[0m         \u001b[0;32mif\u001b[0m \u001b[0mself\u001b[0m\u001b[0;34m.\u001b[0m\u001b[0m_report\u001b[0m \u001b[0;32mis\u001b[0m \u001b[0;32mNone\u001b[0m\u001b[0;34m:\u001b[0m\u001b[0;34m\u001b[0m\u001b[0;34m\u001b[0m\u001b[0m\n\u001b[0;32m--> 173\u001b[0;31m             \u001b[0mself\u001b[0m\u001b[0;34m.\u001b[0m\u001b[0m_report\u001b[0m \u001b[0;34m=\u001b[0m \u001b[0mget_report_structure\u001b[0m\u001b[0;34m(\u001b[0m\u001b[0mself\u001b[0m\u001b[0;34m.\u001b[0m\u001b[0mdescription_set\u001b[0m\u001b[0;34m)\u001b[0m\u001b[0;34m\u001b[0m\u001b[0;34m\u001b[0m\u001b[0m\n\u001b[0m\u001b[1;32m    174\u001b[0m         \u001b[0;32mreturn\u001b[0m \u001b[0mself\u001b[0m\u001b[0;34m.\u001b[0m\u001b[0m_report\u001b[0m\u001b[0;34m\u001b[0m\u001b[0;34m\u001b[0m\u001b[0m\n\u001b[1;32m    175\u001b[0m \u001b[0;34m\u001b[0m\u001b[0m\n",
      "\u001b[0;32m/usr/local/lib/python3.7/dist-packages/pandas_profiling/profile_report.py\u001b[0m in \u001b[0;36mdescription_set\u001b[0;34m(self)\u001b[0m\n\u001b[1;32m    152\u001b[0m     \u001b[0;32mdef\u001b[0m \u001b[0mdescription_set\u001b[0m\u001b[0;34m(\u001b[0m\u001b[0mself\u001b[0m\u001b[0;34m)\u001b[0m\u001b[0;34m:\u001b[0m\u001b[0;34m\u001b[0m\u001b[0;34m\u001b[0m\u001b[0m\n\u001b[1;32m    153\u001b[0m         \u001b[0;32mif\u001b[0m \u001b[0mself\u001b[0m\u001b[0;34m.\u001b[0m\u001b[0m_description_set\u001b[0m \u001b[0;32mis\u001b[0m \u001b[0;32mNone\u001b[0m\u001b[0;34m:\u001b[0m\u001b[0;34m\u001b[0m\u001b[0;34m\u001b[0m\u001b[0m\n\u001b[0;32m--> 154\u001b[0;31m             \u001b[0mself\u001b[0m\u001b[0;34m.\u001b[0m\u001b[0m_description_set\u001b[0m \u001b[0;34m=\u001b[0m \u001b[0mdescribe_df\u001b[0m\u001b[0;34m(\u001b[0m\u001b[0mself\u001b[0m\u001b[0;34m.\u001b[0m\u001b[0mtitle\u001b[0m\u001b[0;34m,\u001b[0m \u001b[0mself\u001b[0m\u001b[0;34m.\u001b[0m\u001b[0mdf\u001b[0m\u001b[0;34m,\u001b[0m \u001b[0mself\u001b[0m\u001b[0;34m.\u001b[0m\u001b[0m_sample\u001b[0m\u001b[0;34m)\u001b[0m\u001b[0;34m\u001b[0m\u001b[0;34m\u001b[0m\u001b[0m\n\u001b[0m\u001b[1;32m    155\u001b[0m         \u001b[0;32mreturn\u001b[0m \u001b[0mself\u001b[0m\u001b[0;34m.\u001b[0m\u001b[0m_description_set\u001b[0m\u001b[0;34m\u001b[0m\u001b[0;34m\u001b[0m\u001b[0m\n\u001b[1;32m    156\u001b[0m \u001b[0;34m\u001b[0m\u001b[0m\n",
      "\u001b[0;32m/usr/local/lib/python3.7/dist-packages/pandas_profiling/model/describe.py\u001b[0m in \u001b[0;36mdescribe\u001b[0;34m(title, df, sample)\u001b[0m\n\u001b[1;32m     70\u001b[0m         \u001b[0mtotal\u001b[0m\u001b[0;34m=\u001b[0m\u001b[0mnumber_of_tasks\u001b[0m\u001b[0;34m,\u001b[0m \u001b[0mdesc\u001b[0m\u001b[0;34m=\u001b[0m\u001b[0;34m\"Summarize dataset\"\u001b[0m\u001b[0;34m,\u001b[0m \u001b[0mdisable\u001b[0m\u001b[0;34m=\u001b[0m\u001b[0mdisable_progress_bar\u001b[0m\u001b[0;34m\u001b[0m\u001b[0;34m\u001b[0m\u001b[0m\n\u001b[1;32m     71\u001b[0m     ) as pbar:\n\u001b[0;32m---> 72\u001b[0;31m         \u001b[0mseries_description\u001b[0m \u001b[0;34m=\u001b[0m \u001b[0mget_series_descriptions\u001b[0m\u001b[0;34m(\u001b[0m\u001b[0mdf\u001b[0m\u001b[0;34m,\u001b[0m \u001b[0mpbar\u001b[0m\u001b[0;34m)\u001b[0m\u001b[0;34m\u001b[0m\u001b[0;34m\u001b[0m\u001b[0m\n\u001b[0m\u001b[1;32m     73\u001b[0m \u001b[0;34m\u001b[0m\u001b[0m\n\u001b[1;32m     74\u001b[0m         \u001b[0mpbar\u001b[0m\u001b[0;34m.\u001b[0m\u001b[0mset_postfix_str\u001b[0m\u001b[0;34m(\u001b[0m\u001b[0;34m\"Get variable types\"\u001b[0m\u001b[0;34m)\u001b[0m\u001b[0;34m\u001b[0m\u001b[0;34m\u001b[0m\u001b[0m\n",
      "\u001b[0;32m/usr/local/lib/python3.7/dist-packages/pandas_profiling/model/summary.py\u001b[0m in \u001b[0;36mget_series_descriptions\u001b[0;34m(df, pbar)\u001b[0m\n\u001b[1;32m    517\u001b[0m         \u001b[0;32mwith\u001b[0m \u001b[0mmultiprocessing\u001b[0m\u001b[0;34m.\u001b[0m\u001b[0mpool\u001b[0m\u001b[0;34m.\u001b[0m\u001b[0mThreadPool\u001b[0m\u001b[0;34m(\u001b[0m\u001b[0mpool_size\u001b[0m\u001b[0;34m)\u001b[0m \u001b[0;32mas\u001b[0m \u001b[0mexecutor\u001b[0m\u001b[0;34m:\u001b[0m\u001b[0;34m\u001b[0m\u001b[0;34m\u001b[0m\u001b[0m\n\u001b[1;32m    518\u001b[0m             for i, (column, description) in enumerate(\n\u001b[0;32m--> 519\u001b[0;31m                 \u001b[0mexecutor\u001b[0m\u001b[0;34m.\u001b[0m\u001b[0mimap_unordered\u001b[0m\u001b[0;34m(\u001b[0m\u001b[0mmultiprocess_1d\u001b[0m\u001b[0;34m,\u001b[0m \u001b[0margs\u001b[0m\u001b[0;34m)\u001b[0m\u001b[0;34m\u001b[0m\u001b[0;34m\u001b[0m\u001b[0m\n\u001b[0m\u001b[1;32m    520\u001b[0m             ):\n\u001b[1;32m    521\u001b[0m                 \u001b[0mpbar\u001b[0m\u001b[0;34m.\u001b[0m\u001b[0mset_postfix_str\u001b[0m\u001b[0;34m(\u001b[0m\u001b[0;34mf\"Describe variable:{column}\"\u001b[0m\u001b[0;34m)\u001b[0m\u001b[0;34m\u001b[0m\u001b[0;34m\u001b[0m\u001b[0m\n",
      "\u001b[0;32m/usr/lib/python3.7/multiprocessing/pool.py\u001b[0m in \u001b[0;36mnext\u001b[0;34m(self, timeout)\u001b[0m\n\u001b[1;32m    735\u001b[0m                 \u001b[0;32mif\u001b[0m \u001b[0mself\u001b[0m\u001b[0;34m.\u001b[0m\u001b[0m_index\u001b[0m \u001b[0;34m==\u001b[0m \u001b[0mself\u001b[0m\u001b[0;34m.\u001b[0m\u001b[0m_length\u001b[0m\u001b[0;34m:\u001b[0m\u001b[0;34m\u001b[0m\u001b[0;34m\u001b[0m\u001b[0m\n\u001b[1;32m    736\u001b[0m                     \u001b[0;32mraise\u001b[0m \u001b[0mStopIteration\u001b[0m \u001b[0;32mfrom\u001b[0m \u001b[0;32mNone\u001b[0m\u001b[0;34m\u001b[0m\u001b[0;34m\u001b[0m\u001b[0m\n\u001b[0;32m--> 737\u001b[0;31m                 \u001b[0mself\u001b[0m\u001b[0;34m.\u001b[0m\u001b[0m_cond\u001b[0m\u001b[0;34m.\u001b[0m\u001b[0mwait\u001b[0m\u001b[0;34m(\u001b[0m\u001b[0mtimeout\u001b[0m\u001b[0;34m)\u001b[0m\u001b[0;34m\u001b[0m\u001b[0;34m\u001b[0m\u001b[0m\n\u001b[0m\u001b[1;32m    738\u001b[0m                 \u001b[0;32mtry\u001b[0m\u001b[0;34m:\u001b[0m\u001b[0;34m\u001b[0m\u001b[0;34m\u001b[0m\u001b[0m\n\u001b[1;32m    739\u001b[0m                     \u001b[0mitem\u001b[0m \u001b[0;34m=\u001b[0m \u001b[0mself\u001b[0m\u001b[0;34m.\u001b[0m\u001b[0m_items\u001b[0m\u001b[0;34m.\u001b[0m\u001b[0mpopleft\u001b[0m\u001b[0;34m(\u001b[0m\u001b[0;34m)\u001b[0m\u001b[0;34m\u001b[0m\u001b[0;34m\u001b[0m\u001b[0m\n",
      "\u001b[0;32m/usr/lib/python3.7/threading.py\u001b[0m in \u001b[0;36mwait\u001b[0;34m(self, timeout)\u001b[0m\n\u001b[1;32m    294\u001b[0m         \u001b[0;32mtry\u001b[0m\u001b[0;34m:\u001b[0m    \u001b[0;31m# restore state no matter what (e.g., KeyboardInterrupt)\u001b[0m\u001b[0;34m\u001b[0m\u001b[0;34m\u001b[0m\u001b[0m\n\u001b[1;32m    295\u001b[0m             \u001b[0;32mif\u001b[0m \u001b[0mtimeout\u001b[0m \u001b[0;32mis\u001b[0m \u001b[0;32mNone\u001b[0m\u001b[0;34m:\u001b[0m\u001b[0;34m\u001b[0m\u001b[0;34m\u001b[0m\u001b[0m\n\u001b[0;32m--> 296\u001b[0;31m                 \u001b[0mwaiter\u001b[0m\u001b[0;34m.\u001b[0m\u001b[0macquire\u001b[0m\u001b[0;34m(\u001b[0m\u001b[0;34m)\u001b[0m\u001b[0;34m\u001b[0m\u001b[0;34m\u001b[0m\u001b[0m\n\u001b[0m\u001b[1;32m    297\u001b[0m                 \u001b[0mgotit\u001b[0m \u001b[0;34m=\u001b[0m \u001b[0;32mTrue\u001b[0m\u001b[0;34m\u001b[0m\u001b[0;34m\u001b[0m\u001b[0m\n\u001b[1;32m    298\u001b[0m             \u001b[0;32melse\u001b[0m\u001b[0;34m:\u001b[0m\u001b[0;34m\u001b[0m\u001b[0;34m\u001b[0m\u001b[0m\n",
      "\u001b[0;31mKeyboardInterrupt\u001b[0m: "
     ]
    }
   ],
   "source": [
    "from pandas_profiling import ProfileReport\n",
    "ProfileReport(df, explorative=True)"
   ]
  },
  {
   "cell_type": "markdown",
   "metadata": {
    "id": "MnxFm7inNWqZ"
   },
   "source": [
    "Looking at the Pandas profile report you might have noticed that there are no missing values. If you take a closer look at the dataframe you see that there are actually a lot of missing values.\n",
    "\n",
    "### Excersize 2\n",
    "\n",
    "A) Replace the '?' with NaN values. \n",
    "\n",
    "B) Replace the readmitted collumn with values 0 & 1 where 0 means not-readmitted and 1 means readmitted.\n",
    "\n",
    "C) Plot the distribution of readmitted to see if the dataset is balanced."
   ]
  },
  {
   "cell_type": "code",
   "execution_count": null,
   "metadata": {
    "id": "yKU7a3LDdUVN"
   },
   "outputs": [],
   "source": [
    "import numpy as np\n",
    "df = df.replace(\"'?'\", np.nan)"
   ]
  },
  {
   "cell_type": "code",
   "execution_count": null,
   "metadata": {
    "id": "Z__fEYtfA4NS"
   },
   "outputs": [],
   "source": [
    "df = df.replace({\"'NO'\":0, \"'<30'\":1, \"'>30'\":1})"
   ]
  },
  {
   "cell_type": "code",
   "execution_count": null,
   "metadata": {
    "colab": {
     "base_uri": "https://localhost:8080/",
     "height": 295
    },
    "id": "wRD4r55PBaJv",
    "outputId": "34dd4a23-92be-4b10-a729-ed1234d67ba3"
   },
   "outputs": [
    {
     "data": {
      "image/png": "[encoded data removed]",
      "text/plain": [
       "<Figure size 432x288 with 1 Axes>"
      ]
     },
     "metadata": {
      "needs_background": "light"
     },
     "output_type": "display_data"
    }
   ],
   "source": [
    "import seaborn as sns\n",
    "import matplotlib.pyplot as plt\n",
    "sns.countplot(x = \"readmitted\", data = df)\n",
    "plt.title(\"Distribution of Target Values\")\n",
    "plt.show()"
   ]
  },
  {
   "cell_type": "markdown",
   "metadata": {
    "id": "w6g4En88DFxI"
   },
   "source": [
    "### Excersize 3\n",
    "\n",
    "A) Plot the following distributions:\n",
    "  - Age on readmission\n",
    "  - Gender on readmission\n",
    "  - Race on readmission\n",
    "\n",
    "B) Plot the probabillities for each of the variables named in excersize 3A"
   ]
  },
  {
   "cell_type": "code",
   "execution_count": null,
   "metadata": {
    "colab": {
     "base_uri": "https://localhost:8080/",
     "height": 295
    },
    "id": "nNMrMdWl5GEN",
    "outputId": "58e01a35-53f5-4cd3-81d1-36c45e7937f2"
   },
   "outputs": [
    {
     "data": {
      "image/png": "[encoded data removed]",
      "text/plain": [
       "<Figure size 432x288 with 1 Axes>"
      ]
     },
     "metadata": {
      "needs_background": "light"
     },
     "output_type": "display_data"
    }
   ],
   "source": [
    "sns.countplot(x=\"age\", hue= \"readmitted\", data = df)\n",
    "plt.title(\"Readmitted - Age\")\n",
    "plt.show()"
   ]
  },
  {
   "cell_type": "code",
   "execution_count": null,
   "metadata": {
    "colab": {
     "base_uri": "https://localhost:8080/",
     "height": 295
    },
    "id": "IpS0VsKPEI3V",
    "outputId": "33524e03-d67b-4c41-903e-abf031a1b001"
   },
   "outputs": [
    {
     "data": {
      "image/png": "[encoded data removed]",
      "text/plain": [
       "<Figure size 432x288 with 1 Axes>"
      ]
     },
     "metadata": {
      "needs_background": "light"
     },
     "output_type": "display_data"
    }
   ],
   "source": [
    "sns.countplot(x=\"gender\", hue= \"readmitted\", data = df)\n",
    "plt.title(\"Readmitted - Gender\")\n",
    "plt.show()"
   ]
  },
  {
   "cell_type": "code",
   "execution_count": null,
   "metadata": {
    "colab": {
     "base_uri": "https://localhost:8080/",
     "height": 295
    },
    "id": "qO8JMGVHEI_M",
    "outputId": "9c8d57d4-eed9-48fc-bec2-73aff351fdc0"
   },
   "outputs": [
    {
     "data": {
      "image/png": "[encoded data removed]",
      "text/plain": [
       "<Figure size 432x288 with 1 Axes>"
      ]
     },
     "metadata": {
      "needs_background": "light"
     },
     "output_type": "display_data"
    }
   ],
   "source": [
    "sns.countplot(x=\"race\", hue= \"readmitted\", data = df)\n",
    "plt.title(\"Readmitted - Race\")\n",
    "plt.show()"
   ]
  },
  {
   "cell_type": "code",
   "execution_count": null,
   "metadata": {
    "colab": {
     "base_uri": "https://localhost:8080/",
     "height": 369
    },
    "id": "THiXxTVzEJC-",
    "outputId": "2b6bc54c-b13b-4fff-93de-3adda5d962ba"
   },
   "outputs": [
    {
     "data": {
      "image/png": "[encoded data removed]",
      "text/plain": [
       "<Figure size 360x360 with 1 Axes>"
      ]
     },
     "metadata": {
      "needs_background": "light"
     },
     "output_type": "display_data"
    }
   ],
   "source": [
    "g = sns.catplot(x = \"age\", y = \"readmitted\", data = df, \n",
    "                   kind = \"bar\", height = 5)\n",
    "g.set_ylabels(\"Readmitted Probability\")\n",
    "plt.show()"
   ]
  },
  {
   "cell_type": "code",
   "execution_count": null,
   "metadata": {
    "colab": {
     "base_uri": "https://localhost:8080/",
     "height": 369
    },
    "id": "eyVtaxvAEj7f",
    "outputId": "613ef0d3-05a2-4b40-d585-3241d2e647b2"
   },
   "outputs": [
    {
     "data": {
      "image/png": "[encoded data removed]",
      "text/plain": [
       "<Figure size 360x360 with 1 Axes>"
      ]
     },
     "metadata": {
      "needs_background": "light"
     },
     "output_type": "display_data"
    }
   ],
   "source": [
    "g = sns.catplot(x = \"gender\", y = \"readmitted\", data = df, \n",
    "                   kind = \"bar\", height = 5)\n",
    "g.set_ylabels(\"Readmitted Probability\")\n",
    "plt.show()"
   ]
  },
  {
   "cell_type": "code",
   "execution_count": null,
   "metadata": {
    "colab": {
     "base_uri": "https://localhost:8080/",
     "height": 369
    },
    "id": "dEEFajuTEn2t",
    "outputId": "d713ba01-40d2-490f-9a32-129ef50829fd"
   },
   "outputs": [
    {
     "data": {
      "image/png": "[encoded data removed]",
      "text/plain": [
       "<Figure size 360x360 with 1 Axes>"
      ]
     },
     "metadata": {
      "needs_background": "light"
     },
     "output_type": "display_data"
    }
   ],
   "source": [
    "g = sns.catplot(x = \"race\", y = \"readmitted\", data = df, \n",
    "                   kind = \"bar\", height = 5)\n",
    "g.set_ylabels(\"Readmitted Probability\")\n",
    "plt.show()"
   ]
  },
  {
   "cell_type": "markdown",
   "metadata": {
    "id": "RAjGPaaKJTYJ"
   },
   "source": [
    "To be able to use the categorical variables for prediction we need to make numerical values for the categories."
   ]
  },
  {
   "cell_type": "markdown",
   "metadata": {
    "id": "j_hWjPfDJGOc"
   },
   "source": [
    "### Excersize 4\n",
    "\n",
    "A) Convert the numeric bins of Age to numbers. (0-10 becomes 5, 10-20 becomes 15 etc)\n",
    "\n",
    "B) Do the same for weight\n",
    "\n",
    "C) Use Scikit-learns labelEncoder to create numerical values for gender.\n",
    "\n",
    "D) Create dummy variables for the variable race\n",
    "\n",
    "E) Drop the new variable race 'Other' (We do this to deal with the dummy variable trap. By removing one of the dummies we decrease the multicollinearity. We won't go into detail about this but you should be aware of its existence and we recommend you look it up)"
   ]
  },
  {
   "cell_type": "code",
   "execution_count": null,
   "metadata": {
    "id": "mjhi0Yu8HeV0"
   },
   "outputs": [],
   "source": [
    "df.age = df.age.replace({\"'[90-100)'\":95,\n",
    "                         \"'[80-90)'\":85,\n",
    "                         \"'[70-80)'\":75,\n",
    "                         \"'[60-70)'\":65,\n",
    "                         \"'[50-60)'\":55,\n",
    "                         \"'[40-50)'\":45,\n",
    "                         \"'[30-40)'\":35,\n",
    "                         \"'[20-30)'\":25,\n",
    "                         \"'[10-20)'\":15,\n",
    "                         \"'[0-10)'\":5})"
   ]
  },
  {
   "cell_type": "code",
   "execution_count": null,
   "metadata": {
    "id": "W8Fu2n2zKtD_"
   },
   "outputs": [],
   "source": [
    "df.weight = df.weight.replace({\"'[0-25)'\":10,\n",
    "                               \"'[25-50)'\":35,\n",
    "                               \"'[50-75)'\":60,\n",
    "                               \"'[75-100)'\":85,\n",
    "                               \"'[100-125)'\":110,\n",
    "                               \"'[125-150)'\":135,\n",
    "                               \"'[150-175)'\":160,\n",
    "                               \"'[175-200)'\":185,\n",
    "                               \"'>200'\":205})"
   ]
  },
  {
   "cell_type": "code",
   "execution_count": null,
   "metadata": {
    "colab": {
     "base_uri": "https://localhost:8080/"
    },
    "id": "d3jXBcyl7cp_",
    "outputId": "5c3d75c6-e79f-425a-b4dd-cbe8d4e9ae91"
   },
   "outputs": [
    {
     "data": {
      "text/plain": [
       "array([\"'Female'\", \"'Male'\", \"'Unknown/Invalid'\"], dtype=object)"
      ]
     },
     "execution_count": 19,
     "metadata": {},
     "output_type": "execute_result"
    }
   ],
   "source": [
    "np.unique(df.gender.astype('str'))"
   ]
  },
  {
   "cell_type": "code",
   "execution_count": null,
   "metadata": {
    "colab": {
     "base_uri": "https://localhost:8080/"
    },
    "id": "Pmt_KaqvL83o",
    "outputId": "72816da2-e718-4480-933d-ce5b53f8a8c8"
   },
   "outputs": [
    {
     "name": "stderr",
     "output_type": "stream",
     "text": [
      "/usr/local/lib/python3.7/dist-packages/sklearn/preprocessing/_label.py:115: DataConversionWarning: A column-vector y was passed when a 1d array was expected. Please change the shape of y to (n_samples, ), for example using ravel().\n",
      "  y = column_or_1d(y, warn=True)\n"
     ]
    }
   ],
   "source": [
    "from sklearn.preprocessing import LabelEncoder\n",
    "\n",
    "enc = LabelEncoder()\n",
    "bla = enc.fit_transform(df[['gender']])"
   ]
  },
  {
   "cell_type": "code",
   "execution_count": null,
   "metadata": {
    "colab": {
     "base_uri": "https://localhost:8080/"
    },
    "id": "H3XEh0tW_Kyg",
    "outputId": "baec57ed-8309-47cb-e74e-7c2b358732cf"
   },
   "outputs": [
    {
     "data": {
      "text/plain": [
       "array([0, 0, 0, ..., 1, 0, 1])"
      ]
     },
     "execution_count": 22,
     "metadata": {},
     "output_type": "execute_result"
    }
   ],
   "source": [
    "bla"
   ]
  },
  {
   "cell_type": "code",
   "execution_count": null,
   "metadata": {
    "id": "dbIoc1Jyqhj2"
   },
   "outputs": [],
   "source": [
    "df_dum = pd.get_dummies(df, columns=['race'])"
   ]
  },
  {
   "cell_type": "code",
   "execution_count": null,
   "metadata": {
    "id": "tzusRkgD-7tt"
   },
   "outputs": [],
   "source": [
    "df_dum = df_dum.drop(columns=[\"race_'Other'\"])"
   ]
  },
  {
   "cell_type": "markdown",
   "metadata": {
    "id": "UyST6YNx2VEV"
   },
   "source": [
    "### Exersize 5\n",
    "\n",
    "A) Check for NaN values. Drop columns if the are missing more than half of the values\n",
    "\n",
    "B) Create a new dataset with only the numerical variables."
   ]
  },
  {
   "cell_type": "code",
   "execution_count": null,
   "metadata": {
    "id": "oDdlhAs8uMbu"
   },
   "outputs": [],
   "source": [
    "df_dum = df_dum.drop(columns=['weight', 'encounter_id', 'patient_nbr'])"
   ]
  },
  {
   "cell_type": "code",
   "execution_count": null,
   "metadata": {
    "id": "5hqaVsj0syu5"
   },
   "outputs": [],
   "source": [
    "df_num = df_dum.select_dtypes(exclude=['object'])"
   ]
  },
  {
   "cell_type": "markdown",
   "metadata": {
    "id": "Xw4Lh7VPAM5B"
   },
   "source": [
    "### Exersize 6 - Feature Selection\n",
    "\n",
    "A) Create X & y where X is all the numerical variables exexpt 'readmitted' and y is 'readmitted\n",
    "\n",
    "B) Use RFECV to determine what the best number of features is to train a model (tip: if this takes a very long time, increase the steps.)\n",
    "\n",
    "C) Create a new version of X called X_new with only the most important features.\n",
    "\n",
    "D) Train a classifier of your choice on both the X dataset and X_new dataset and see if there is any difference. (Tip: use sklearns classification raport to see the results of your model) It can happen that there is almost no difference.\n",
    "\n",
    "Sometimes the accuracy of your model can decrease after feature selection. But this is not necessarily a bad thing. Remember that your also using feature selection to battle overfitting, decrease training time and increase explainability."
   ]
  },
  {
   "cell_type": "code",
   "execution_count": null,
   "metadata": {
    "id": "aUMaracn2FDK"
   },
   "outputs": [],
   "source": [
    "from sklearn.feature_selection import chi2\n",
    "from sklearn.feature_selection import SelectKBest\n",
    "from sklearn.model_selection import train_test_split\n",
    "from sklearn.tree import DecisionTreeClassifier\n",
    "from sklearn.feature_selection import RFECV"
   ]
  },
  {
   "cell_type": "code",
   "execution_count": null,
   "metadata": {
    "colab": {
     "base_uri": "https://localhost:8080/"
    },
    "id": "4AhYPHPW2y4C",
    "outputId": "d1241982-b5d7-4ca6-ea40-a170204a5685"
   },
   "outputs": [
    {
     "name": "stderr",
     "output_type": "stream",
     "text": [
      "/usr/local/lib/python3.7/dist-packages/sklearn/base.py:446: UserWarning: X does not have valid feature names, but RFECV was fitted with feature names\n",
      "  \"X does not have valid feature names, but\"\n"
     ]
    }
   ],
   "source": [
    "df_num = df_num.dropna()\n",
    "\n",
    "X = df_num.drop(columns=['readmitted'])\n",
    "y = df_num['readmitted']\n",
    "\n",
    "est = DecisionTreeClassifier()\n",
    "select = RFECV(est, step=3, cv=5)\n",
    "X_new = select.fit_transform(X,y)"
   ]
  },
  {
   "cell_type": "code",
   "execution_count": null,
   "metadata": {
    "id": "V8TR9IAKewML"
   },
   "outputs": [],
   "source": [
    "X_train, X_test, y_train, y_test = train_test_split(X,y, shuffle=True)\n",
    "X_ntrain, X_ntest, y_ntrain, y_ntest = train_test_split(X_new,y, shuffle=True)"
   ]
  },
  {
   "cell_type": "code",
   "execution_count": null,
   "metadata": {
    "id": "LnwVvgrvAaBJ"
   },
   "outputs": [],
   "source": []
  },
  {
   "cell_type": "code",
   "execution_count": null,
   "metadata": {
    "colab": {
     "base_uri": "https://localhost:8080/"
    },
    "id": "LT9q36Ua4GWx",
    "outputId": "b008f85c-ec63-43d9-ffdc-518da5824843"
   },
   "outputs": [
    {
     "data": {
      "text/plain": [
       "RandomForestClassifier(max_depth=5, n_estimators=20, n_jobs=-1)"
      ]
     },
     "execution_count": 30,
     "metadata": {},
     "output_type": "execute_result"
    }
   ],
   "source": [
    "from sklearn.ensemble import RandomForestClassifier\n",
    "from sklearn.ensemble import AdaBoostClassifier\n",
    "from sklearn.metrics import classification_report\n",
    "\n",
    "model = RandomForestClassifier(n_estimators=20, n_jobs = -1, max_depth=5)\n",
    "nmodel = RandomForestClassifier(n_estimators=20, n_jobs = -1, max_depth=5)\n",
    "\n",
    "#model = AdaBoostClassifier()\n",
    "#nmodel = AdaBoostClassifier()\n",
    "\n",
    "model.fit(X_train,y_train)\n",
    "nmodel.fit(X_ntrain, y_ntrain)"
   ]
  },
  {
   "cell_type": "code",
   "execution_count": null,
   "metadata": {
    "id": "v7ZNEMzU7ikZ"
   },
   "outputs": [],
   "source": [
    "y_pred = model.predict(X_test)\n",
    "y_npred = nmodel.predict(X_ntest)"
   ]
  },
  {
   "cell_type": "code",
   "execution_count": null,
   "metadata": {
    "colab": {
     "base_uri": "https://localhost:8080/"
    },
    "id": "6wPw63IK7u4-",
    "outputId": "5f4805db-3a53-425f-8c45-228457906052"
   },
   "outputs": [
    {
     "name": "stdout",
     "output_type": "stream",
     "text": [
      "              precision    recall  f1-score   support\n",
      "\n",
      "           0       0.63      0.77      0.69     13629\n",
      "           1       0.64      0.47      0.54     11813\n",
      "\n",
      "    accuracy                           0.63     25442\n",
      "   macro avg       0.63      0.62      0.62     25442\n",
      "weighted avg       0.63      0.63      0.62     25442\n",
      "\n"
     ]
    }
   ],
   "source": [
    "print(classification_report(y_test,y_pred))"
   ]
  },
  {
   "cell_type": "code",
   "execution_count": null,
   "metadata": {
    "colab": {
     "base_uri": "https://localhost:8080/"
    },
    "id": "90cYnnz_7zk8",
    "outputId": "097afdc9-c15b-47de-f412-6a3d1331d38e"
   },
   "outputs": [
    {
     "name": "stdout",
     "output_type": "stream",
     "text": [
      "              precision    recall  f1-score   support\n",
      "\n",
      "           0       0.62      0.79      0.70     13628\n",
      "           1       0.65      0.45      0.53     11814\n",
      "\n",
      "    accuracy                           0.63     25442\n",
      "   macro avg       0.64      0.62      0.61     25442\n",
      "weighted avg       0.63      0.63      0.62     25442\n",
      "\n"
     ]
    }
   ],
   "source": [
    "print(classification_report(y_ntest,y_npred))"
   ]
  },
  {
   "cell_type": "markdown",
   "metadata": {
    "id": "Y1VCYalwIP4p"
   },
   "source": [
    "### Exersize 7 - SHAP\n",
    "\n",
    "https://shap.readthedocs.io/en/latest/tabular_examples.html \n",
    "\n",
    "A) install and import shap\n",
    "\n",
    "B) Search in the link above which explainer fits for the model that you have trained in exersize 6\n",
    "\n",
    "C) Create shap_values and run a shap.summary_plot ([Here](https://mljar.com/blog/feature-importance-in-random-forest/#:~:text=The%20Random%20Forest%20algorithm%20has,be%20computed%20in%20two%20ways%3A&text=We%20can%20measure%20how%20each,average%20it%20decreases%20the%20impurity.) you can find a nice example of how that is done)\n",
    "\n",
    "D) Look up how to get the feature importance values from the model you trained. And compare it to the shap values.\n",
    "\n"
   ]
  },
  {
   "cell_type": "code",
   "execution_count": null,
   "metadata": {
    "id": "FRk8w92vI1qk"
   },
   "outputs": [],
   "source": [
    "import shap"
   ]
  },
  {
   "cell_type": "code",
   "execution_count": null,
   "metadata": {
    "id": "Ni6W_7EkIekc"
   },
   "outputs": [],
   "source": [
    "explainer = shap.TreeExplainer(nmodel)\n",
    "shap_values = explainer.shap_values(X_ntest)"
   ]
  },
  {
   "cell_type": "code",
   "execution_count": null,
   "metadata": {
    "colab": {
     "base_uri": "https://localhost:8080/"
    },
    "id": "xtjoP3pxcjek",
    "outputId": "8ccbd064-ce38-4daf-abee-f840672a62f9"
   },
   "outputs": [
    {
     "data": {
      "text/plain": [
       "array([[75,  3,  3, ...,  8,  0,  9],\n",
       "       [65,  2, 14, ..., 30,  0,  9],\n",
       "       [85,  1,  7, ..., 22,  0,  9],\n",
       "       ...,\n",
       "       [75,  1,  5, ...,  9,  1,  9],\n",
       "       [75,  1,  3, ..., 13,  0,  8],\n",
       "       [55,  1,  3, ..., 25,  0,  9]])"
      ]
     },
     "execution_count": 23,
     "metadata": {},
     "output_type": "execute_result"
    }
   ],
   "source": [
    "X_ntest"
   ]
  },
  {
   "cell_type": "code",
   "execution_count": null,
   "metadata": {
    "colab": {
     "base_uri": "https://localhost:8080/",
     "height": 320
    },
    "id": "c2aU7hXNI-wD",
    "outputId": "38beb87f-3bc5-40b6-8e8d-99424d0ac11f"
   },
   "outputs": [
    {
     "data": {
      "image/png": "[encoded data removed]",
      "text/plain": [
       "<Figure size 576x338.4 with 1 Axes>"
      ]
     },
     "metadata": {
      "needs_background": "light"
     },
     "output_type": "display_data"
    }
   ],
   "source": [
    "shap.summary_plot(shap_values, X_ntest )"
   ]
  },
  {
   "cell_type": "markdown",
   "metadata": {
    "id": "9VtJV026JE5U"
   },
   "source": [
    "# Part 2. \n",
    "\n",
    "For this second part we look at the Exoplanets dataset from github. This dataset exists of information about 3839 exo planets. Unfortunatly there is a lot of information missing. It is up to you to clean the data set in order to be able to predict the temperature on any given planet. \n",
    "\n",
    "Start of by loading in the dataset and generating a pandas profile report."
   ]
  },
  {
   "cell_type": "code",
   "execution_count": null,
   "metadata": {
    "id": "g_AR81MhJEOn"
   },
   "outputs": [],
   "source": [
    "! git clone https://github.com/OpenExoplanetCatalogue/oec_tables.git"
   ]
  },
  {
   "cell_type": "code",
   "execution_count": null,
   "metadata": {
    "id": "c0aRQiMVMSTc"
   },
   "outputs": [],
   "source": [
    "import pandas as pd\n",
    "oec = pd.read_csv('oec_tables/comma_separated/open_exoplanet_catalogue_kepler.txt')\n",
    "oec.head()"
   ]
  },
  {
   "cell_type": "markdown",
   "metadata": {
    "id": "p3iSlod1T6-6"
   },
   "source": [
    "### Exercise 1\n",
    "\n",
    "A) Create a new dataset where you only keep the columns with at least 75% of the values.\n",
    "\n",
    "B) Run the pandas profiling report on this dataset\n",
    "\n",
    "C) Drop the columns that have no influence on the prediction of temperature. Use the correlation matrix from the report"
   ]
  },
  {
   "cell_type": "code",
   "execution_count": null,
   "metadata": {
    "id": "vgyoahWBNDIF"
   },
   "outputs": [],
   "source": [
    "threshhold = len(oec) * 0.75\n",
    "\n",
    "oec = oec.dropna(thresh = threshhold, axis=1) \n",
    "\n",
    "oec = oec.drop(columns=['binaryflag','name', 'system_rightascension', 'system_declination', 'list'])"
   ]
  },
  {
   "cell_type": "code",
   "execution_count": null,
   "metadata": {
    "id": "i65-rTuPPAHd"
   },
   "outputs": [],
   "source": [
    "oec.info()"
   ]
  },
  {
   "cell_type": "markdown",
   "metadata": {
    "id": "azsj9JrmsajG"
   },
   "source": [
    "### Exercise 2\n",
    "\n",
    "A) Install autoviz and use it to visualize this dataset."
   ]
  },
  {
   "cell_type": "code",
   "execution_count": null,
   "metadata": {
    "id": "lyHTy6A3KTno"
   },
   "outputs": [],
   "source": [
    "from autoviz.AutoViz_Class import AutoViz_Class\n",
    " \n",
    "AV = AutoViz_Class()"
   ]
  },
  {
   "cell_type": "code",
   "execution_count": null,
   "metadata": {
    "id": "6Tf5jWAkt1bc"
   },
   "outputs": [],
   "source": [
    "viz = AV.AutoViz(filename = '',dfte=oec, depVar='temperature', lowess=False, verbose=1)"
   ]
  },
  {
   "cell_type": "markdown",
   "metadata": {
    "id": "3JQAQ3z7UVCc"
   },
   "source": [
    "### Exercise 3\n",
    "\n",
    "A) Check correlation matrix for multicollinearity and check if there are confounding variables.\n",
    "\n",
    "B) Delete potential confounding variables"
   ]
  },
  {
   "cell_type": "code",
   "execution_count": null,
   "metadata": {
    "id": "ye0wxH6hPXgg"
   },
   "outputs": [],
   "source": [
    "oec = oec.drop(columns=['period'])"
   ]
  },
  {
   "cell_type": "markdown",
   "metadata": {
    "id": "FTCsHtkWUr_R"
   },
   "source": [
    "### Exercise 4\n",
    "\n",
    "A) Check the boxplot for each variable to get insight in any potential outliers.\n",
    "\n",
    "B) Write a function that takes a dataframe and lists all the indexes of potential outliers. Make sure that you can change the percentages in the arguments of your function. (e.g. def outliers(df, 0.05, 0.95) takes the upper and lower 5% as outliers.)\n",
    "\n",
    "C) Calculate the z-scores for each variable. (Tip: use the scipy libraby)\n",
    "\n",
    "D) Drop rows with z-score values higher than 3."
   ]
  },
  {
   "cell_type": "code",
   "execution_count": null,
   "metadata": {
    "id": "gdxhMRFYPj-e"
   },
   "outputs": [],
   "source": [
    "def outliers(col_name,Q1,Q3):\n",
    "  quantile1 =  oec[col_name].quantile(Q1)\n",
    "  quantile3 = oec[col_name].quantile(Q3)\n",
    "  IQR = quantile3 - quantile1\n",
    "  return oec[(oec[col_name] < Q1-1.5*IQR ) | (oec[col_name] > Q3+1.5*IQR)][col_name]"
   ]
  },
  {
   "cell_type": "code",
   "execution_count": null,
   "metadata": {
    "id": "6vE-h_X3PnEQ"
   },
   "outputs": [],
   "source": [
    "out_list = []\n",
    "for i in oec.columns:\n",
    "  if 'hoststar' in i:\n",
    "    break\n",
    "  out = outliers(i,0.01,0.99)\n",
    "  x = out.index[0:len(out)]\n",
    "  x = x.tolist()\n",
    "  out_list.extend(x)"
   ]
  },
  {
   "cell_type": "code",
   "execution_count": null,
   "metadata": {
    "id": "X0Yb6_HjvHoi"
   },
   "outputs": [],
   "source": [
    "from scipy.stats import zscore"
   ]
  },
  {
   "cell_type": "code",
   "execution_count": null,
   "metadata": {
    "id": "MaOVQepNvKvR"
   },
   "outputs": [],
   "source": [
    "z_scores = zscore(oec)"
   ]
  },
  {
   "cell_type": "code",
   "execution_count": null,
   "metadata": {
    "id": "q89pNlmfvUZn"
   },
   "outputs": [],
   "source": [
    "high = z_scores[(z_scores > 3).any(axis=1)]"
   ]
  },
  {
   "cell_type": "code",
   "execution_count": null,
   "metadata": {
    "id": "mFgVqu03PvLE"
   },
   "outputs": [],
   "source": [
    "oec = oec.drop(high.index)"
   ]
  }
 ],
 "metadata": {
  "colab": {
   "collapsed_sections": [],
   "name": "Week 3 - Answers Exploratory Data Analysis.ipynb",
   "provenance": []
  },
  "kernelspec": {
   "display_name": "Python 3 (ipykernel)",
   "language": "python",
   "name": "python3"
  },
  "language_info": {
   "codemirror_mode": {
    "name": "ipython",
    "version": 3
   },
   "file_extension": ".py",
   "mimetype": "text/x-python",
   "name": "python",
   "nbconvert_exporter": "python",
   "pygments_lexer": "ipython3",
   "version": "3.7.13"
  },
  "widgets": {
   "application/vnd.jupyter.widget-state+json": {
    "02a77b0fce9648e1b7b14d6609b39f06": {
     "model_module": "@jupyter-widgets/controls",
     "model_module_version": "1.5.0",
     "model_name": "DescriptionStyleModel",
     "state": {
      "_model_module": "@jupyter-widgets/controls",
      "_model_module_version": "1.5.0",
      "_model_name": "DescriptionStyleModel",
      "_view_count": null,
      "_view_module": "@jupyter-widgets/base",
      "_view_module_version": "1.2.0",
      "_view_name": "StyleView",
      "description_width": ""
     }
    },
    "1b7dc227a8c340819d511e19173b9080": {
     "model_module": "@jupyter-widgets/controls",
     "model_module_version": "1.5.0",
     "model_name": "HTMLModel",
     "state": {
      "_dom_classes": [],
      "_model_module": "@jupyter-widgets/controls",
      "_model_module_version": "1.5.0",
      "_model_name": "HTMLModel",
      "_view_count": null,
      "_view_module": "@jupyter-widgets/controls",
      "_view_module_version": "1.5.0",
      "_view_name": "HTMLView",
      "description": "",
      "description_tooltip": null,
      "layout": "IPY_MODEL_fcb47255d7514c47b05ae7998748012a",
      "placeholder": "​",
      "style": "IPY_MODEL_02a77b0fce9648e1b7b14d6609b39f06",
      "value": " 37/64 [00:05&lt;00:04,  5.69it/s, Describe variable:acarbose]"
     }
    },
    "1e8936b1240b4f729fa73e3c42b954ff": {
     "model_module": "@jupyter-widgets/controls",
     "model_module_version": "1.5.0",
     "model_name": "FloatProgressModel",
     "state": {
      "_dom_classes": [],
      "_model_module": "@jupyter-widgets/controls",
      "_model_module_version": "1.5.0",
      "_model_name": "FloatProgressModel",
      "_view_count": null,
      "_view_module": "@jupyter-widgets/controls",
      "_view_module_version": "1.5.0",
      "_view_name": "ProgressView",
      "bar_style": "danger",
      "description": "",
      "description_tooltip": null,
      "layout": "IPY_MODEL_59f6703f976345e8baaa53b0024066f2",
      "max": 64,
      "min": 0,
      "orientation": "horizontal",
      "style": "IPY_MODEL_96b9284c985f42789fc312a4f83b816b",
      "value": 37
     }
    },
    "4fec57ebbc7e480e88a30d0ef441693b": {
     "model_module": "@jupyter-widgets/controls",
     "model_module_version": "1.5.0",
     "model_name": "DescriptionStyleModel",
     "state": {
      "_model_module": "@jupyter-widgets/controls",
      "_model_module_version": "1.5.0",
      "_model_name": "DescriptionStyleModel",
      "_view_count": null,
      "_view_module": "@jupyter-widgets/base",
      "_view_module_version": "1.2.0",
      "_view_name": "StyleView",
      "description_width": ""
     }
    },
    "59f6703f976345e8baaa53b0024066f2": {
     "model_module": "@jupyter-widgets/base",
     "model_module_version": "1.2.0",
     "model_name": "LayoutModel",
     "state": {
      "_model_module": "@jupyter-widgets/base",
      "_model_module_version": "1.2.0",
      "_model_name": "LayoutModel",
      "_view_count": null,
      "_view_module": "@jupyter-widgets/base",
      "_view_module_version": "1.2.0",
      "_view_name": "LayoutView",
      "align_content": null,
      "align_items": null,
      "align_self": null,
      "border": null,
      "bottom": null,
      "display": null,
      "flex": null,
      "flex_flow": null,
      "grid_area": null,
      "grid_auto_columns": null,
      "grid_auto_flow": null,
      "grid_auto_rows": null,
      "grid_column": null,
      "grid_gap": null,
      "grid_row": null,
      "grid_template_areas": null,
      "grid_template_columns": null,
      "grid_template_rows": null,
      "height": null,
      "justify_content": null,
      "justify_items": null,
      "left": null,
      "margin": null,
      "max_height": null,
      "max_width": null,
      "min_height": null,
      "min_width": null,
      "object_fit": null,
      "object_position": null,
      "order": null,
      "overflow": null,
      "overflow_x": null,
      "overflow_y": null,
      "padding": null,
      "right": null,
      "top": null,
      "visibility": null,
      "width": null
     }
    },
    "73d0c53edc694e609d07f7b538ae6d16": {
     "model_module": "@jupyter-widgets/base",
     "model_module_version": "1.2.0",
     "model_name": "LayoutModel",
     "state": {
      "_model_module": "@jupyter-widgets/base",
      "_model_module_version": "1.2.0",
      "_model_name": "LayoutModel",
      "_view_count": null,
      "_view_module": "@jupyter-widgets/base",
      "_view_module_version": "1.2.0",
      "_view_name": "LayoutView",
      "align_content": null,
      "align_items": null,
      "align_self": null,
      "border": null,
      "bottom": null,
      "display": null,
      "flex": null,
      "flex_flow": null,
      "grid_area": null,
      "grid_auto_columns": null,
      "grid_auto_flow": null,
      "grid_auto_rows": null,
      "grid_column": null,
      "grid_gap": null,
      "grid_row": null,
      "grid_template_areas": null,
      "grid_template_columns": null,
      "grid_template_rows": null,
      "height": null,
      "justify_content": null,
      "justify_items": null,
      "left": null,
      "margin": null,
      "max_height": null,
      "max_width": null,
      "min_height": null,
      "min_width": null,
      "object_fit": null,
      "object_position": null,
      "order": null,
      "overflow": null,
      "overflow_x": null,
      "overflow_y": null,
      "padding": null,
      "right": null,
      "top": null,
      "visibility": null,
      "width": null
     }
    },
    "9323a66e44094c11af84087b74707821": {
     "model_module": "@jupyter-widgets/controls",
     "model_module_version": "1.5.0",
     "model_name": "HBoxModel",
     "state": {
      "_dom_classes": [],
      "_model_module": "@jupyter-widgets/controls",
      "_model_module_version": "1.5.0",
      "_model_name": "HBoxModel",
      "_view_count": null,
      "_view_module": "@jupyter-widgets/controls",
      "_view_module_version": "1.5.0",
      "_view_name": "HBoxView",
      "box_style": "",
      "children": [
       "IPY_MODEL_b4c2851a82044959afacbbedffa03e34",
       "IPY_MODEL_1e8936b1240b4f729fa73e3c42b954ff",
       "IPY_MODEL_1b7dc227a8c340819d511e19173b9080"
      ],
      "layout": "IPY_MODEL_9fc9cf749e1341d28f2a45ab94f8738e"
     }
    },
    "96b9284c985f42789fc312a4f83b816b": {
     "model_module": "@jupyter-widgets/controls",
     "model_module_version": "1.5.0",
     "model_name": "ProgressStyleModel",
     "state": {
      "_model_module": "@jupyter-widgets/controls",
      "_model_module_version": "1.5.0",
      "_model_name": "ProgressStyleModel",
      "_view_count": null,
      "_view_module": "@jupyter-widgets/base",
      "_view_module_version": "1.2.0",
      "_view_name": "StyleView",
      "bar_color": null,
      "description_width": ""
     }
    },
    "9fc9cf749e1341d28f2a45ab94f8738e": {
     "model_module": "@jupyter-widgets/base",
     "model_module_version": "1.2.0",
     "model_name": "LayoutModel",
     "state": {
      "_model_module": "@jupyter-widgets/base",
      "_model_module_version": "1.2.0",
      "_model_name": "LayoutModel",
      "_view_count": null,
      "_view_module": "@jupyter-widgets/base",
      "_view_module_version": "1.2.0",
      "_view_name": "LayoutView",
      "align_content": null,
      "align_items": null,
      "align_self": null,
      "border": null,
      "bottom": null,
      "display": null,
      "flex": null,
      "flex_flow": null,
      "grid_area": null,
      "grid_auto_columns": null,
      "grid_auto_flow": null,
      "grid_auto_rows": null,
      "grid_column": null,
      "grid_gap": null,
      "grid_row": null,
      "grid_template_areas": null,
      "grid_template_columns": null,
      "grid_template_rows": null,
      "height": null,
      "justify_content": null,
      "justify_items": null,
      "left": null,
      "margin": null,
      "max_height": null,
      "max_width": null,
      "min_height": null,
      "min_width": null,
      "object_fit": null,
      "object_position": null,
      "order": null,
      "overflow": null,
      "overflow_x": null,
      "overflow_y": null,
      "padding": null,
      "right": null,
      "top": null,
      "visibility": null,
      "width": null
     }
    },
    "b4c2851a82044959afacbbedffa03e34": {
     "model_module": "@jupyter-widgets/controls",
     "model_module_version": "1.5.0",
     "model_name": "HTMLModel",
     "state": {
      "_dom_classes": [],
      "_model_module": "@jupyter-widgets/controls",
      "_model_module_version": "1.5.0",
      "_model_name": "HTMLModel",
      "_view_count": null,
      "_view_module": "@jupyter-widgets/controls",
      "_view_module_version": "1.5.0",
      "_view_name": "HTMLView",
      "description": "",
      "description_tooltip": null,
      "layout": "IPY_MODEL_73d0c53edc694e609d07f7b538ae6d16",
      "placeholder": "​",
      "style": "IPY_MODEL_4fec57ebbc7e480e88a30d0ef441693b",
      "value": "Summarize dataset:  58%"
     }
    },
    "fcb47255d7514c47b05ae7998748012a": {
     "model_module": "@jupyter-widgets/base",
     "model_module_version": "1.2.0",
     "model_name": "LayoutModel",
     "state": {
      "_model_module": "@jupyter-widgets/base",
      "_model_module_version": "1.2.0",
      "_model_name": "LayoutModel",
      "_view_count": null,
      "_view_module": "@jupyter-widgets/base",
      "_view_module_version": "1.2.0",
      "_view_name": "LayoutView",
      "align_content": null,
      "align_items": null,
      "align_self": null,
      "border": null,
      "bottom": null,
      "display": null,
      "flex": null,
      "flex_flow": null,
      "grid_area": null,
      "grid_auto_columns": null,
      "grid_auto_flow": null,
      "grid_auto_rows": null,
      "grid_column": null,
      "grid_gap": null,
      "grid_row": null,
      "grid_template_areas": null,
      "grid_template_columns": null,
      "grid_template_rows": null,
      "height": null,
      "justify_content": null,
      "justify_items": null,
      "left": null,
      "margin": null,
      "max_height": null,
      "max_width": null,
      "min_height": null,
      "min_width": null,
      "object_fit": null,
      "object_position": null,
      "order": null,
      "overflow": null,
      "overflow_x": null,
      "overflow_y": null,
      "padding": null,
      "right": null,
      "top": null,
      "visibility": null,
      "width": null
     }
    }
   }
  }
 },
 "nbformat": 4,
 "nbformat_minor": 1
}
